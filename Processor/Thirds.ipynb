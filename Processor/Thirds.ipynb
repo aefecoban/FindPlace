{
 "cells": [
  {
   "cell_type": "code",
   "execution_count": null,
   "id": "6b76211c-14c4-43f1-8ea6-372f502f6c5e",
   "metadata": {
    "scrolled": true
   },
   "outputs": [],
   "source": [
    "!python -m pip install --upgrade pip\n",
    "!pip install tensorflow\n",
    "!pip install pandas\n",
    "!pip install numpy\n",
    "!pip install opencv-python"
   ]
  },
  {
   "cell_type": "code",
   "execution_count": null,
   "id": "c1339ba7",
   "metadata": {},
   "outputs": [],
   "source": [
    "import os\n",
    "import pandas as pd\n",
    "import numpy as np\n",
    "import re\n",
    "import cv2"
   ]
  },
  {
   "cell_type": "code",
   "execution_count": null,
   "id": "c801014d-ca12-4010-9ce2-dd1b559fb5b2",
   "metadata": {},
   "outputs": [],
   "source": [
    "IMG_Size = 32\n",
    "MIN_elevation = -50\n",
    "MAX_elevation = 32"
   ]
  },
  {
   "cell_type": "code",
   "execution_count": null,
   "id": "7c789247",
   "metadata": {},
   "outputs": [],
   "source": [
    "__dir = \"AllImages\"\n",
    "Datas = []\n",
    "\n",
    "for dosya in os.listdir(__dir):\n",
    "    dosya_adı = os.path.splitext(dosya)[0]  # Dosya uzantısını kaldırma\n",
    "    dosya_p = dosya_adı.split('_')\n",
    "    dosya_p[1] = re.sub(r'_?\\d+', '', dosya_p[1])\n",
    "    \n",
    "    # Resmin türü ve şehir adını alıyoruz\n",
    "    resim_turu = dosya_p[0]\n",
    "    sehir = dosya_p[1]\n",
    "    \n",
    "    if(sehir == \"ElevationMatrix\"):\n",
    "        sehir = resim_turu\n",
    "        resim_turu = \"ElevationMatrix\"\n",
    "    \n",
    "    Datas.append({\n",
    "        \"Location\" :  __dir + \"/\" + dosya,\n",
    "        \"City\" : sehir,\n",
    "        \"Type\" : resim_turu\n",
    "    })"
   ]
  },
  {
   "cell_type": "code",
   "execution_count": null,
   "id": "22498367",
   "metadata": {},
   "outputs": [],
   "source": [
    "Datas = pd.DataFrame(Datas)\n",
    "Datas"
   ]
  },
  {
   "cell_type": "code",
   "execution_count": null,
   "id": "c64e71d8",
   "metadata": {},
   "outputs": [],
   "source": [
    "ElevationsMap = []\n",
    "MinesMaps = []\n",
    "RegionsMaps = []\n",
    "GreenAreaMaps = []\n",
    "LivestockMaps = []\n",
    "AgricultralMaps = []"
   ]
  },
  {
   "cell_type": "code",
   "execution_count": null,
   "id": "776aef03",
   "metadata": {},
   "outputs": [],
   "source": [
    "CityNames = Datas[\"City\"].unique().tolist()\n",
    "\n",
    "for city in CityNames:\n",
    "    MinesMaps.append(Datas.loc[(Datas[\"City\"] == city) & (Datas[\"Type\"] == \"MinesMap\"), \"Location\"].values[0])\n",
    "    RegionsMaps.append(Datas.loc[(Datas[\"City\"] == city) & (Datas[\"Type\"] == \"RegionsMap\"), \"Location\"].values[0])\n",
    "    GreenAreaMaps.append(Datas.loc[(Datas[\"City\"] == city) & (Datas[\"Type\"] == \"GreenAreaMap\"), \"Location\"].values[0])\n",
    "    LivestockMaps.append(Datas.loc[(Datas[\"City\"] == city) & (Datas[\"Type\"] == \"LivestockMap\"), \"Location\"].values[0])\n",
    "    AgricultralMaps.append(Datas.loc[(Datas[\"City\"] == city) & (Datas[\"Type\"] == \"AgricultralMap\"), \"Location\"].values[0])\n",
    "    ElevationsMap.append(Datas.loc[(Datas[\"City\"] == city) & (Datas[\"Type\"] == \"ElevationMatrix\"), \"Location\"].values[0])\n",
    "\n",
    "del CityNames"
   ]
  },
  {
   "cell_type": "code",
   "execution_count": null,
   "id": "88f47416",
   "metadata": {},
   "outputs": [],
   "source": [
    "def ImgDivider(image, size=128):\n",
    "    piece_width = size\n",
    "    piece_height = size\n",
    "\n",
    "    height, width = image.shape\n",
    "\n",
    "    pieces = []\n",
    "    for y in range(0, height, piece_height):\n",
    "        for x in range(0, width, piece_width):\n",
    "            piece_right = min(x + piece_width, width)\n",
    "            piece_bottom = min(y + piece_height, height)\n",
    "            piece_width_actual = piece_right - x\n",
    "            piece_height_actual = piece_bottom - y\n",
    "            \n",
    "            piece = np.zeros((piece_height, piece_width), dtype=np.uint8)\n",
    "            piece[:piece_height_actual, :piece_width_actual] = image[y:piece_bottom, x:piece_right]\n",
    "            pieces.append(piece)\n",
    "\n",
    "    return pieces"
   ]
  },
  {
   "cell_type": "code",
   "execution_count": null,
   "id": "6596e939",
   "metadata": {},
   "outputs": [],
   "source": [
    "def scale_array(array, scale_x, scale_y):\n",
    "    height, width = array.shape\n",
    "    \n",
    "    new_height = int(height * scale_y)\n",
    "    new_width = int(width * scale_x)\n",
    "    \n",
    "    scaled_array = np.zeros((new_height, new_width), dtype=array.dtype)\n",
    "    \n",
    "    for i in range(new_height):\n",
    "        for j in range(new_width):\n",
    "            original_i = int(i / scale_y)\n",
    "            original_j = int(j / scale_x)\n",
    "            \n",
    "            if original_i >= height or original_j >= width:\n",
    "                scaled_array[i, j] = 0\n",
    "            else:\n",
    "                scaled_array[i, j] = array[original_i, original_j]\n",
    "    \n",
    "    return scaled_array"
   ]
  },
  {
   "cell_type": "code",
   "execution_count": null,
   "id": "d6204182",
   "metadata": {},
   "outputs": [],
   "source": [
    "def ElevationToImg(elevation, width, height):\n",
    "    elevation_df = pd.DataFrame(elevation)\n",
    "    \n",
    "    max_x = max(elevation_df[\"x\"]) + 1\n",
    "    max_y = max(elevation_df[\"y\"]) + 1\n",
    "    \n",
    "    array = np.zeros((max_y, max_x), dtype=int)\n",
    "    \n",
    "    for index, data in elevation_df.iterrows():\n",
    "        x = data[\"x\"]\n",
    "        y = data[\"y\"]\n",
    "        elevation_val = data[\"elevation\"]\n",
    "        array[y, x] = elevation_val\n",
    "        \n",
    "    if max_x <= width and max_y <= height:\n",
    "        scaleX = width / max_x\n",
    "        scaleY = height / max_y\n",
    "        resized_array = scale_array(array, scaleX, scaleY)\n",
    "    else:\n",
    "        resized_array = cv2.resize(array, (width, height), interpolation=cv2.INTER_AREA)\n",
    "\n",
    "    return resized_array"
   ]
  },
  {
   "cell_type": "code",
   "execution_count": null,
   "id": "830524ae",
   "metadata": {},
   "outputs": [],
   "source": [
    "Images = {\n",
    "    \"ElevationMaps\" : [],\n",
    "    \"AgricultralMaps\" : [],\n",
    "    \"GreenAreaMaps\" : [],\n",
    "    \"LivestockMaps\" : [],\n",
    "    \"MinesMaps\" : [],\n",
    "    \"RegionsMaps\" : []\n",
    "}\n",
    "\n",
    "for index in range(len(RegionsMaps)):\n",
    "    min_value = 0\n",
    "    max_value = 1\n",
    "\n",
    "    reg_img = cv2.imread(RegionsMaps[index], cv2.IMREAD_GRAYSCALE)\n",
    "    reg_img = cv2.normalize(reg_img, None, min_value, max_value, cv2.NORM_MINMAX)\n",
    "\n",
    "    min_img = cv2.imread(MinesMaps[index], cv2.IMREAD_GRAYSCALE)\n",
    "    min_img = cv2.normalize(min_img, None, min_value, max_value, cv2.NORM_MINMAX)\n",
    "\n",
    "    gre_img = cv2.imread(GreenAreaMaps[index], cv2.IMREAD_GRAYSCALE)\n",
    "    gre_img = cv2.normalize(gre_img, None, min_value, max_value, cv2.NORM_MINMAX)\n",
    "\n",
    "    liv_img = cv2.imread(LivestockMaps[index], cv2.IMREAD_GRAYSCALE)\n",
    "    liv_img = cv2.normalize(liv_img, None, min_value, max_value, cv2.NORM_MINMAX)\n",
    "\n",
    "    agr_img = cv2.imread(AgricultralMaps[index], cv2.IMREAD_GRAYSCALE)\n",
    "    agr_img = cv2.normalize(agr_img, None, min_value, max_value, cv2.NORM_MINMAX)\n",
    "    \n",
    "    elv_img = cv2.imread(ElevationsMap[index], cv2.IMREAD_GRAYSCALE)\n",
    "    elv_img = cv2.normalize(elv_img, None, min_value, max_value, cv2.NORM_MINMAX)\n",
    "    \n",
    "    imgSize = gre_img\n",
    "\n",
    "    Images[\"RegionsMaps\"].extend(ImgDivider(reg_img, IMG_Size))\n",
    "    Images[\"MinesMaps\"].extend(ImgDivider(min_img, IMG_Size))\n",
    "    Images[\"GreenAreaMaps\"].extend(ImgDivider(gre_img, IMG_Size))\n",
    "    Images[\"LivestockMaps\"].extend(ImgDivider(liv_img, IMG_Size))\n",
    "    Images[\"AgricultralMaps\"].extend(ImgDivider(agr_img, IMG_Size))\n",
    "    Images[\"ElevationMaps\"].extend(ImgDivider(elv_img, IMG_Size))"
   ]
  },
  {
   "cell_type": "code",
   "execution_count": null,
   "id": "a0fa8541",
   "metadata": {},
   "outputs": [],
   "source": [
    "deleteThisIndexes = []\n",
    "\n",
    "for index in range(len(Images[\"AgricultralMaps\"])):\n",
    "    UV_reg = np.unique(Images[\"RegionsMaps\"][index])\n",
    "    UV_min = np.unique(Images[\"MinesMaps\"][index])\n",
    "    UV_gre = np.unique(Images[\"GreenAreaMaps\"][index])\n",
    "    UV_liv = np.unique(Images[\"LivestockMaps\"][index])\n",
    "    UV_agr = np.unique(Images[\"AgricultralMaps\"][index])\n",
    "\n",
    "    if(len(UV_reg) == 1 and len(UV_min) == 1 and len(UV_gre) == 1 and len(UV_liv) == 1 and len(UV_agr) == 1 and UV_reg[0] == 0):\n",
    "        deleteThisIndexes.append(index)"
   ]
  },
  {
   "cell_type": "code",
   "execution_count": null,
   "id": "1fd555c8",
   "metadata": {},
   "outputs": [],
   "source": [
    "for key in Images.keys():\n",
    "    image_list = Images[key]\n",
    "    Images[key] = np.delete(image_list, deleteThisIndexes, axis=0)"
   ]
  },
  {
   "cell_type": "code",
   "execution_count": null,
   "id": "97e24016",
   "metadata": {},
   "outputs": [],
   "source": [
    "normalized_maps = np.copy(Images[\"ElevationMaps\"])\n",
    "normalized_maps[normalized_maps > MAX_elevation] = MAX_elevation\n",
    "normalized_maps[normalized_maps < MIN_elevation] = MIN_elevation\n",
    "normalized_maps = (normalized_maps - MIN_elevation) / (MAX_elevation - MIN_elevation)\n",
    "normalized_maps[normalized_maps >= 1] = 1\n",
    "normalized_maps[normalized_maps <= 0] = 0\n",
    "\n",
    "Images[\"ElevationMaps\"] = normalized_maps"
   ]
  },
  {
   "cell_type": "code",
   "execution_count": null,
   "id": "bccc78aa",
   "metadata": {
    "scrolled": true
   },
   "outputs": [],
   "source": [
    "np.unique(Images[\"RegionsMaps\"][5])"
   ]
  },
  {
   "cell_type": "code",
   "execution_count": null,
   "id": "e9326941",
   "metadata": {},
   "outputs": [],
   "source": [
    "ratios = []\n",
    "for arrayIndex in range(len(Images[\"RegionsMaps\"])):\n",
    "    total_ones = np.sum(Images[\"RegionsMaps\"][arrayIndex])\n",
    "    total_elements = np.prod(Images[\"RegionsMaps\"][arrayIndex].shape)\n",
    "    ratio = total_ones / total_elements\n",
    "    ratio = np.around(ratio, decimals=1)\n",
    "    ratios.append(ratio)\n",
    "\n",
    "Images[\"RegionsMaps\"] = ratios"
   ]
  },
  {
   "cell_type": "code",
   "execution_count": null,
   "id": "d4404d29",
   "metadata": {},
   "outputs": [],
   "source": [
    "inputsVals = np.stack((Images[\"AgricultralMaps\"], Images[\"MinesMaps\"], Images[\"GreenAreaMaps\"], Images[\"LivestockMaps\"], Images[\"ElevationMaps\"]), axis=-1)"
   ]
  },
  {
   "cell_type": "code",
   "execution_count": null,
   "id": "607bf4d7",
   "metadata": {},
   "outputs": [],
   "source": [
    "outputMaps = (Images[\"RegionsMaps\"])\n",
    "outputMaps = np.array(outputMaps)"
   ]
  },
  {
   "cell_type": "code",
   "execution_count": null,
   "id": "ced9ebeb-c2d8-49d6-99fe-e74e3e981024",
   "metadata": {},
   "outputs": [],
   "source": [
    "del Images\n",
    "del normalized_maps\n",
    "del ratios\n",
    "del Datas\n",
    "del deleteThisIndexes\n",
    "del ElevationsMap\n",
    "del MinesMaps\n",
    "del RegionsMaps\n",
    "del GreenAreaMaps\n",
    "del LivestockMaps\n",
    "del AgricultralMaps"
   ]
  },
  {
   "cell_type": "code",
   "execution_count": null,
   "id": "4c1e43d6-a9f7-4418-8ddb-77baef246025",
   "metadata": {},
   "outputs": [],
   "source": [
    "outputMaps"
   ]
  },
  {
   "cell_type": "markdown",
   "id": "85b259de",
   "metadata": {},
   "source": [
    "# AI"
   ]
  },
  {
   "cell_type": "code",
   "execution_count": null,
   "id": "c48ccd6d",
   "metadata": {},
   "outputs": [],
   "source": [
    "import tensorflow as tf\n",
    "from tensorflow.keras import regularizers"
   ]
  },
  {
   "cell_type": "code",
   "execution_count": null,
   "id": "69752f82",
   "metadata": {},
   "outputs": [],
   "source": [
    "input_shape = (IMG_Size, IMG_Size, 5)\n",
    "\n",
    "model = tf.keras.Sequential()\n",
    "\n",
    "model.add(tf.keras.layers.Conv2D(32, (3, 3), activation='relu', input_shape=input_shape))\n",
    "model.add(tf.keras.layers.BatchNormalization())\n",
    "model.add(tf.keras.layers.MaxPooling2D((2, 2)))\n",
    "\n",
    "model.add(tf.keras.layers.Conv2D(64, (3, 3), activation='relu', padding=\"same\"))\n",
    "model.add(tf.keras.layers.BatchNormalization())\n",
    "model.add(tf.keras.layers.Dropout(0.25))\n",
    "model.add(tf.keras.layers.MaxPooling2D((2, 2)))\n",
    "\n",
    "model.add(tf.keras.layers.Conv2D(32, (3, 3), activation='relu', padding=\"same\"))\n",
    "model.add(tf.keras.layers.BatchNormalization())\n",
    "\n",
    "model.add(tf.keras.layers.Flatten())\n",
    "\n",
    "model.add(tf.keras.layers.Dense(128, activation='relu'))\n",
    "model.add(tf.keras.layers.Dropout(0.25))\n",
    "model.add(tf.keras.layers.Dense(256, activation='tanh', kernel_regularizer=regularizers.l2(0.01)))\n",
    "model.add(tf.keras.layers.Dense(64, activation='relu', kernel_regularizer=regularizers.l2(0.01)))\n",
    "model.add(tf.keras.layers.Dense(1, activation='sigmoid'))\n",
    "\n",
    "optimizer = tf.keras.optimizers.Adam(learning_rate=0.0001)\n",
    "model.compile(optimizer=optimizer, loss='mse', metrics=['accuracy'])\n",
    "\n",
    "model.summary()"
   ]
  },
  {
   "cell_type": "code",
   "execution_count": null,
   "id": "566ff92e",
   "metadata": {},
   "outputs": [],
   "source": [
    "model.fit(inputsVals, outputMaps, epochs=8)"
   ]
  },
  {
   "cell_type": "code",
   "execution_count": null,
   "id": "78b976d4",
   "metadata": {
    "scrolled": true
   },
   "outputs": [],
   "source": [
    "predictions = model.predict(inputsVals[:10])"
   ]
  },
  {
   "cell_type": "code",
   "execution_count": null,
   "id": "86cd41b8",
   "metadata": {},
   "outputs": [],
   "source": [
    "np.around(predictions, decimals=1)"
   ]
  },
  {
   "cell_type": "code",
   "execution_count": null,
   "id": "27238b37",
   "metadata": {},
   "outputs": [],
   "source": [
    "outputMaps[:10]"
   ]
  },
  {
   "cell_type": "code",
   "execution_count": null,
   "id": "642e178a",
   "metadata": {},
   "outputs": [],
   "source": [
    "model.save(\"Models/Fourth.keras\")"
   ]
  },
  {
   "cell_type": "code",
   "execution_count": null,
   "id": "876d7745",
   "metadata": {},
   "outputs": [],
   "source": []
  }
 ],
 "metadata": {
  "kernelspec": {
   "display_name": "Python 3 (ipykernel)",
   "language": "python",
   "name": "python3"
  },
  "language_info": {
   "codemirror_mode": {
    "name": "ipython",
    "version": 3
   },
   "file_extension": ".py",
   "mimetype": "text/x-python",
   "name": "python",
   "nbconvert_exporter": "python",
   "pygments_lexer": "ipython3",
   "version": "3.11.0"
  }
 },
 "nbformat": 4,
 "nbformat_minor": 5
}
