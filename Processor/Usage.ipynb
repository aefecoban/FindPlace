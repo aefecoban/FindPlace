{
 "cells": [
  {
   "cell_type": "code",
   "execution_count": 1,
   "id": "43f56a85",
   "metadata": {},
   "outputs": [],
   "source": [
    "import tensorflow as tf"
   ]
  },
  {
   "cell_type": "code",
   "execution_count": 2,
   "id": "1cceb90b",
   "metadata": {},
   "outputs": [],
   "source": [
    "import os\n",
    "import cv2\n",
    "import numpy as np\n",
    "import pandas as pd\n",
    "import json\n",
    "import math"
   ]
  },
  {
   "cell_type": "code",
   "execution_count": 3,
   "id": "f4d14cee",
   "metadata": {},
   "outputs": [],
   "source": [
    "def scale_array(array, scale_x, scale_y):\n",
    "    height, width = array.shape\n",
    "    \n",
    "    new_height = int(height * scale_y)\n",
    "    new_width = int(width * scale_x)\n",
    "    \n",
    "    scaled_array = np.zeros((new_height, new_width), dtype=array.dtype)\n",
    "    \n",
    "    for i in range(new_height):\n",
    "        for j in range(new_width):\n",
    "            original_i = int(i / scale_y)\n",
    "            original_j = int(j / scale_x)\n",
    "            \n",
    "            if original_i >= height or original_j >= width:\n",
    "                scaled_array[i, j] = 0\n",
    "            else:\n",
    "                scaled_array[i, j] = array[original_i, original_j]\n",
    "    \n",
    "    return scaled_array"
   ]
  },
  {
   "cell_type": "code",
   "execution_count": 4,
   "id": "1e00433e",
   "metadata": {},
   "outputs": [],
   "source": [
    "def ElevationToImg(elevation, width, height):\n",
    "    elevation_df = pd.DataFrame(elevation)\n",
    "    \n",
    "    max_x = max(elevation_df[\"x\"]) + 1\n",
    "    max_y = max(elevation_df[\"y\"]) + 1\n",
    "    \n",
    "    array = np.zeros((max_y, max_x), dtype=int)\n",
    "    \n",
    "    for index, data in elevation_df.iterrows():\n",
    "        x = data[\"x\"]\n",
    "        y = data[\"y\"]\n",
    "        elevation_val = data[\"elevation\"]\n",
    "        array[y, x] = elevation_val\n",
    "        \n",
    "    if max_x <= width and max_y <= height:\n",
    "        scaleX = width / max_x\n",
    "        scaleY = height / max_y\n",
    "        resized_array = scale_array(array, scaleX, scaleY)\n",
    "    else:\n",
    "        resized_array = cv2.resize(array, (width, height), interpolation=cv2.INTER_AREA)\n",
    "\n",
    "    return resized_array"
   ]
  },
  {
   "cell_type": "code",
   "execution_count": 5,
   "id": "7712f9dd",
   "metadata": {},
   "outputs": [],
   "source": [
    "def ImgDivider(image, size=32):\n",
    "    piece_width = size\n",
    "    piece_height = size\n",
    "\n",
    "    height, width = image.shape\n",
    "\n",
    "    pieces = []\n",
    "    for y in range(0, height, piece_height):\n",
    "        for x in range(0, width, piece_width):\n",
    "            # Parça boyutlarını belirle\n",
    "            piece_right = min(x + piece_width, width)\n",
    "            piece_bottom = min(y + piece_height, height)\n",
    "            piece_width_actual = piece_right - x\n",
    "            piece_height_actual = piece_bottom - y\n",
    "            \n",
    "            # Parçayı oluştur ve padding yap\n",
    "            piece = np.zeros((piece_height, piece_width), dtype=np.uint8)\n",
    "            piece[:piece_height_actual, :piece_width_actual] = image[y:piece_bottom, x:piece_right]\n",
    "            pieces.append(piece)\n",
    "\n",
    "    return pieces\n"
   ]
  },
  {
   "cell_type": "code",
   "execution_count": 19,
   "id": "e560de4b",
   "metadata": {},
   "outputs": [],
   "source": [
    "class AI:\n",
    "    def __init__(self, model_path):\n",
    "        self.model = tf.keras.models.load_model(model_path)\n",
    "    \n",
    "    def FetchData(self, lat, lon, lat2, lon2):\n",
    "        #fake:\n",
    "        Where = \"izmirkuzey\"\n",
    "        imagesF = \"AllImages\"\n",
    "        \n",
    "        for dosya_adi in os.listdir(imagesF):\n",
    "            if dosya_adi.endswith(\".png\"):\n",
    "                parcalar = dosya_adi.split(\"_\")\n",
    "                if len(parcalar) > 1 and (parcalar[1].startswith(Where) or parcalar[0].startswith(Where)):\n",
    "                    dosya_yolu = os.path.join(imagesF, dosya_adi)\n",
    "                    img = cv2.imread(dosya_yolu, cv2.IMREAD_GRAYSCALE)\n",
    "                    if(parcalar[0].startswith(\"AgricultralMap\")):\n",
    "                        self.AgricultralMap = img\n",
    "                    elif(parcalar[0].startswith(\"GreenAreaMap\")):\n",
    "                        self.GreenAreaMap = img\n",
    "                    elif(parcalar[0].startswith(\"LivestockMap\")):\n",
    "                        self.LivestockMap = img\n",
    "                    elif(parcalar[0].startswith(\"MinesMap\")):\n",
    "                        self.MinesMap = img\n",
    "                    elif(parcalar[0].startswith(\"RegionsMap\")):\n",
    "                        self.RegionsMap = img\n",
    "                    elif(parcalar[1].startswith(\"ElevationMatrix\") or parcalar[0].startswith(\"ElevationMatrix\")):\n",
    "                        self.Elevation = img\n",
    "                        \n",
    "    def GetDatas(self):\n",
    "        return {\n",
    "            \"AgricultralMap\" : self.AgricultralMap,\n",
    "            \"GreenAreaMap\" : self.GreenAreaMap,\n",
    "            \"LivestockMap\" : self.LivestockMap,\n",
    "            \"MinesMap\" : self.MinesMap,\n",
    "            \"RegionsMap\" : self.RegionsMap,\n",
    "            \"Elevation\" : self.Elevation,\n",
    "        }\n",
    "    \n",
    "    def Normalize(self):\n",
    "        normalized_maps = np.copy(self.Elevation)\n",
    "        normalized_maps[normalized_maps > 1000] = 1000\n",
    "        normalized_maps = normalized_maps / 1000.0\n",
    "        normalized_maps[normalized_maps == 1] = 1\n",
    "\n",
    "        self.Elevation = normalized_maps\n",
    "    \n",
    "    def PrepareDataToPredict(self):\n",
    "        self.Images = {\n",
    "            \"RegionsMaps\" : [],\n",
    "            \"MinesMaps\" : [],\n",
    "            \"GreenAreaMaps\" : [],\n",
    "            \"LivestockMaps\" : [],\n",
    "            \"AgricultralMaps\" : [],\n",
    "            \"ElevationMaps\" : [],\n",
    "        }\n",
    "        \n",
    "        self.Images[\"RegionsMaps\"].extend(ImgDivider(self.RegionsMap))\n",
    "        self.Images[\"MinesMaps\"].extend(ImgDivider(self.MinesMap))\n",
    "        self.Images[\"GreenAreaMaps\"].extend(ImgDivider(self.GreenAreaMap))\n",
    "        self.Images[\"LivestockMaps\"].extend(ImgDivider(self.LivestockMap))\n",
    "        self.Images[\"AgricultralMaps\"].extend(ImgDivider(self.AgricultralMap))\n",
    "        self.Images[\"ElevationMaps\"].extend(ImgDivider(self.Elevation))\n",
    "        \n",
    "        self.inputsVals = np.stack((self.Images[\"AgricultralMaps\"], self.Images[\"MinesMaps\"], self.Images[\"GreenAreaMaps\"], self.Images[\"LivestockMaps\"], self.Images[\"ElevationMaps\"]), axis=-1)\n",
    "    \n",
    "    def Predict(self):\n",
    "        self.Normalize()\n",
    "        self.PrepareDataToPredict()\n",
    "        predictions = self.model.predict(self.inputsVals)        \n",
    "        return np.around(predictions, decimals=1)"
   ]
  },
  {
   "cell_type": "code",
   "execution_count": 20,
   "id": "eb0a15e8",
   "metadata": {},
   "outputs": [],
   "source": [
    "M = AI(\"NewModelWithTerrain_4.keras\")"
   ]
  },
  {
   "cell_type": "code",
   "execution_count": 21,
   "id": "f9e4b173",
   "metadata": {},
   "outputs": [],
   "source": [
    "M.FetchData(0, 0, 1, 1)"
   ]
  },
  {
   "cell_type": "code",
   "execution_count": 22,
   "id": "830011ed",
   "metadata": {},
   "outputs": [],
   "source": [
    "datas = M.GetDatas()"
   ]
  },
  {
   "cell_type": "code",
   "execution_count": null,
   "id": "b3612848",
   "metadata": {},
   "outputs": [],
   "source": [
    "preds = M.Predict()"
   ]
  },
  {
   "cell_type": "code",
   "execution_count": 24,
   "id": "d6be8100",
   "metadata": {},
   "outputs": [],
   "source": [
    "height, width = (M.GetDatas()[\"RegionsMap\"]).shape[:2]\n",
    "org_width = math.ceil(width / 32) + (width % 32 > 0)\n",
    "org_height = math.ceil(height / 32) + (height % 32 > 0)"
   ]
  },
  {
   "cell_type": "code",
   "execution_count": null,
   "id": "654a841f",
   "metadata": {},
   "outputs": [],
   "source": [
    "yeni_dizi = np.zeros((org_height, org_width))\n",
    "\n",
    "row, col = 0, 0\n",
    "for deger in preds:\n",
    "    yeni_dizi[row, col] = deger\n",
    "    col += 1\n",
    "    if col == org_width:\n",
    "        col = 0\n",
    "        row += 1"
   ]
  },
  {
   "cell_type": "code",
   "execution_count": 27,
   "id": "47cfffcc",
   "metadata": {},
   "outputs": [
    {
     "data": {
      "text/plain": [
       "(0.0, 1.0, 0.8034072188097322)"
      ]
     },
     "execution_count": 27,
     "metadata": {},
     "output_type": "execute_result"
    }
   ],
   "source": [
    "(np.min(yeni_dizi), np.max(yeni_dizi), np.mean(yeni_dizi))"
   ]
  }
 ],
 "metadata": {
  "kernelspec": {
   "display_name": "Python 3 (ipykernel)",
   "language": "python",
   "name": "python3"
  },
  "language_info": {
   "codemirror_mode": {
    "name": "ipython",
    "version": 3
   },
   "file_extension": ".py",
   "mimetype": "text/x-python",
   "name": "python",
   "nbconvert_exporter": "python",
   "pygments_lexer": "ipython3",
   "version": "3.11.4"
  }
 },
 "nbformat": 4,
 "nbformat_minor": 5
}
