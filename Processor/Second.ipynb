{
 "cells": [
  {
   "cell_type": "code",
   "execution_count": 1,
   "id": "c1339ba7",
   "metadata": {},
   "outputs": [],
   "source": [
    "import os\n",
    "import pandas as pd\n",
    "import json\n",
    "import math\n",
    "import numpy as np\n",
    "import re"
   ]
  },
  {
   "cell_type": "code",
   "execution_count": 2,
   "id": "7c789247",
   "metadata": {},
   "outputs": [],
   "source": [
    "__dir = \"AllImages\"\n",
    "Datas = []\n",
    "\n",
    "for dosya in os.listdir(__dir):\n",
    "    dosya_adı = os.path.splitext(dosya)[0]  # Dosya uzantısını kaldırma\n",
    "    dosya_p = dosya_adı.split('_')\n",
    "    dosya_p[1] = re.sub(r'_?\\d+', '', dosya_p[1])\n",
    "    \n",
    "    # Resmin türü ve şehir adını alıyoruz\n",
    "    resim_turu = dosya_p[0]\n",
    "    sehir = dosya_p[1]\n",
    "    \n",
    "    if(sehir == \"ElevationMatrix\"):\n",
    "        sehir = resim_turu\n",
    "        resim_turu = \"ElevationMatrix\"\n",
    "    \n",
    "    Datas.append({\n",
    "        \"Location\" :  __dir + \"/\" + dosya,\n",
    "        \"City\" : sehir,\n",
    "        \"Type\" : resim_turu\n",
    "    })"
   ]
  },
  {
   "cell_type": "code",
   "execution_count": 3,
   "id": "22498367",
   "metadata": {},
   "outputs": [],
   "source": [
    "Datas = pd.DataFrame(Datas)"
   ]
  },
  {
   "cell_type": "code",
   "execution_count": 4,
   "id": "84dfed30",
   "metadata": {
    "scrolled": false
   },
   "outputs": [
    {
     "data": {
      "text/html": [
       "<div>\n",
       "<style scoped>\n",
       "    .dataframe tbody tr th:only-of-type {\n",
       "        vertical-align: middle;\n",
       "    }\n",
       "\n",
       "    .dataframe tbody tr th {\n",
       "        vertical-align: top;\n",
       "    }\n",
       "\n",
       "    .dataframe thead th {\n",
       "        text-align: right;\n",
       "    }\n",
       "</style>\n",
       "<table border=\"1\" class=\"dataframe\">\n",
       "  <thead>\n",
       "    <tr style=\"text-align: right;\">\n",
       "      <th></th>\n",
       "      <th>Location</th>\n",
       "      <th>City</th>\n",
       "      <th>Type</th>\n",
       "    </tr>\n",
       "  </thead>\n",
       "  <tbody>\n",
       "    <tr>\n",
       "      <th>0</th>\n",
       "      <td>AllImages/AgricultralMap_izmirguney.png</td>\n",
       "      <td>izmirguney</td>\n",
       "      <td>AgricultralMap</td>\n",
       "    </tr>\n",
       "    <tr>\n",
       "      <th>1</th>\n",
       "      <td>AllImages/AgricultralMap_izmirguney180.png</td>\n",
       "      <td>izmirguney</td>\n",
       "      <td>AgricultralMap</td>\n",
       "    </tr>\n",
       "    <tr>\n",
       "      <th>2</th>\n",
       "      <td>AllImages/AgricultralMap_izmirguney270.png</td>\n",
       "      <td>izmirguney</td>\n",
       "      <td>AgricultralMap</td>\n",
       "    </tr>\n",
       "    <tr>\n",
       "      <th>3</th>\n",
       "      <td>AllImages/AgricultralMap_izmirguney90.png</td>\n",
       "      <td>izmirguney</td>\n",
       "      <td>AgricultralMap</td>\n",
       "    </tr>\n",
       "    <tr>\n",
       "      <th>4</th>\n",
       "      <td>AllImages/AgricultralMap_izmirkuzey.png</td>\n",
       "      <td>izmirkuzey</td>\n",
       "      <td>AgricultralMap</td>\n",
       "    </tr>\n",
       "    <tr>\n",
       "      <th>...</th>\n",
       "      <td>...</td>\n",
       "      <td>...</td>\n",
       "      <td>...</td>\n",
       "    </tr>\n",
       "    <tr>\n",
       "      <th>115</th>\n",
       "      <td>AllImages/RegionsMap_viyana90.png</td>\n",
       "      <td>viyana</td>\n",
       "      <td>RegionsMap</td>\n",
       "    </tr>\n",
       "    <tr>\n",
       "      <th>116</th>\n",
       "      <td>AllImages/viyana_ElevationMatrix.png</td>\n",
       "      <td>viyana</td>\n",
       "      <td>ElevationMatrix</td>\n",
       "    </tr>\n",
       "    <tr>\n",
       "      <th>117</th>\n",
       "      <td>AllImages/viyana_ElevationMatrix180.png</td>\n",
       "      <td>viyana</td>\n",
       "      <td>ElevationMatrix</td>\n",
       "    </tr>\n",
       "    <tr>\n",
       "      <th>118</th>\n",
       "      <td>AllImages/viyana_ElevationMatrix270.png</td>\n",
       "      <td>viyana</td>\n",
       "      <td>ElevationMatrix</td>\n",
       "    </tr>\n",
       "    <tr>\n",
       "      <th>119</th>\n",
       "      <td>AllImages/viyana_ElevationMatrix90.png</td>\n",
       "      <td>viyana</td>\n",
       "      <td>ElevationMatrix</td>\n",
       "    </tr>\n",
       "  </tbody>\n",
       "</table>\n",
       "<p>120 rows × 3 columns</p>\n",
       "</div>"
      ],
      "text/plain": [
       "                                       Location        City             Type\n",
       "0       AllImages/AgricultralMap_izmirguney.png  izmirguney   AgricultralMap\n",
       "1    AllImages/AgricultralMap_izmirguney180.png  izmirguney   AgricultralMap\n",
       "2    AllImages/AgricultralMap_izmirguney270.png  izmirguney   AgricultralMap\n",
       "3     AllImages/AgricultralMap_izmirguney90.png  izmirguney   AgricultralMap\n",
       "4       AllImages/AgricultralMap_izmirkuzey.png  izmirkuzey   AgricultralMap\n",
       "..                                          ...         ...              ...\n",
       "115           AllImages/RegionsMap_viyana90.png      viyana       RegionsMap\n",
       "116        AllImages/viyana_ElevationMatrix.png      viyana  ElevationMatrix\n",
       "117     AllImages/viyana_ElevationMatrix180.png      viyana  ElevationMatrix\n",
       "118     AllImages/viyana_ElevationMatrix270.png      viyana  ElevationMatrix\n",
       "119      AllImages/viyana_ElevationMatrix90.png      viyana  ElevationMatrix\n",
       "\n",
       "[120 rows x 3 columns]"
      ]
     },
     "execution_count": 4,
     "metadata": {},
     "output_type": "execute_result"
    }
   ],
   "source": [
    "Datas"
   ]
  },
  {
   "cell_type": "code",
   "execution_count": 5,
   "id": "c64e71d8",
   "metadata": {},
   "outputs": [],
   "source": [
    "ElevationsMap = []\n",
    "MinesMaps = []\n",
    "RegionsMaps = []\n",
    "GreenAreaMaps = []\n",
    "LivestockMaps = []\n",
    "AgricultralMaps = []"
   ]
  },
  {
   "cell_type": "code",
   "execution_count": 6,
   "id": "776aef03",
   "metadata": {},
   "outputs": [],
   "source": [
    "CityNames = Datas[\"City\"].unique().tolist()\n",
    "\n",
    "for city in CityNames:\n",
    "    MinesMaps.append(Datas.loc[(Datas[\"City\"] == city) & (Datas[\"Type\"] == \"MinesMap\"), \"Location\"].values[0])\n",
    "    RegionsMaps.append(Datas.loc[(Datas[\"City\"] == city) & (Datas[\"Type\"] == \"RegionsMap\"), \"Location\"].values[0])\n",
    "    GreenAreaMaps.append(Datas.loc[(Datas[\"City\"] == city) & (Datas[\"Type\"] == \"GreenAreaMap\"), \"Location\"].values[0])\n",
    "    LivestockMaps.append(Datas.loc[(Datas[\"City\"] == city) & (Datas[\"Type\"] == \"LivestockMap\"), \"Location\"].values[0])\n",
    "    AgricultralMaps.append(Datas.loc[(Datas[\"City\"] == city) & (Datas[\"Type\"] == \"AgricultralMap\"), \"Location\"].values[0])\n",
    "    ElevationsMap.append(Datas.loc[(Datas[\"City\"] == city) & (Datas[\"Type\"] == \"ElevationMatrix\"), \"Location\"].values[0])\n",
    "\n",
    "del CityNames"
   ]
  },
  {
   "cell_type": "code",
   "execution_count": 7,
   "id": "e9d84911",
   "metadata": {},
   "outputs": [],
   "source": [
    "import numpy as np\n",
    "import cv2"
   ]
  },
  {
   "cell_type": "code",
   "execution_count": 8,
   "id": "88f47416",
   "metadata": {},
   "outputs": [],
   "source": [
    "def ImgDivider(image, size=32):\n",
    "    piece_width = size\n",
    "    piece_height = size\n",
    "\n",
    "    height, width = image.shape\n",
    "\n",
    "    pieces = []\n",
    "    for y in range(0, height, piece_height):\n",
    "        for x in range(0, width, piece_width):\n",
    "            piece_right = min(x + piece_width, width)\n",
    "            piece_bottom = min(y + piece_height, height)\n",
    "            piece_width_actual = piece_right - x\n",
    "            piece_height_actual = piece_bottom - y\n",
    "            \n",
    "            piece = np.zeros((piece_height, piece_width), dtype=np.uint8)\n",
    "            piece[:piece_height_actual, :piece_width_actual] = image[y:piece_bottom, x:piece_right]\n",
    "            pieces.append(piece)\n",
    "\n",
    "    return pieces\n",
    "\n"
   ]
  },
  {
   "cell_type": "code",
   "execution_count": 9,
   "id": "6596e939",
   "metadata": {},
   "outputs": [],
   "source": [
    "def scale_array(array, scale_x, scale_y):\n",
    "    height, width = array.shape\n",
    "    \n",
    "    new_height = int(height * scale_y)\n",
    "    new_width = int(width * scale_x)\n",
    "    \n",
    "    scaled_array = np.zeros((new_height, new_width), dtype=array.dtype)\n",
    "    \n",
    "    for i in range(new_height):\n",
    "        for j in range(new_width):\n",
    "            original_i = int(i / scale_y)\n",
    "            original_j = int(j / scale_x)\n",
    "            \n",
    "            if original_i >= height or original_j >= width:\n",
    "                scaled_array[i, j] = 0\n",
    "            else:\n",
    "                scaled_array[i, j] = array[original_i, original_j]\n",
    "    \n",
    "    return scaled_array"
   ]
  },
  {
   "cell_type": "code",
   "execution_count": 10,
   "id": "d6204182",
   "metadata": {},
   "outputs": [],
   "source": [
    "def ElevationToImg(elevation, width, height):\n",
    "    elevation_df = pd.DataFrame(elevation)\n",
    "    \n",
    "    max_x = max(elevation_df[\"x\"]) + 1\n",
    "    max_y = max(elevation_df[\"y\"]) + 1\n",
    "    \n",
    "    array = np.zeros((max_y, max_x), dtype=int)\n",
    "    \n",
    "    for index, data in elevation_df.iterrows():\n",
    "        x = data[\"x\"]\n",
    "        y = data[\"y\"]\n",
    "        elevation_val = data[\"elevation\"]\n",
    "        array[y, x] = elevation_val\n",
    "        \n",
    "    print(array)\n",
    "        \n",
    "    if max_x <= width and max_y <= height:\n",
    "        scaleX = width / max_x\n",
    "        scaleY = height / max_y\n",
    "        resized_array = scale_array(array, scaleX, scaleY)\n",
    "    else:\n",
    "        resized_array = cv2.resize(array, (width, height), interpolation=cv2.INTER_AREA)\n",
    "\n",
    "    return resized_array"
   ]
  },
  {
   "cell_type": "code",
   "execution_count": 11,
   "id": "830524ae",
   "metadata": {},
   "outputs": [],
   "source": [
    "Images = {\n",
    "    \"ElevationMaps\" : [],\n",
    "    \"AgricultralMaps\" : [],\n",
    "    \"GreenAreaMaps\" : [],\n",
    "    \"LivestockMaps\" : [],\n",
    "    \"MinesMaps\" : [],\n",
    "    \"RegionsMaps\" : []\n",
    "}\n",
    "\n",
    "for index in range(len(RegionsMaps)):\n",
    "    min_value = 0\n",
    "    max_value = 1\n",
    "\n",
    "    reg_img = cv2.imread(RegionsMaps[index], cv2.IMREAD_GRAYSCALE)\n",
    "    reg_img = cv2.normalize(reg_img, None, min_value, max_value, cv2.NORM_MINMAX)\n",
    "\n",
    "    min_img = cv2.imread(MinesMaps[index], cv2.IMREAD_GRAYSCALE)\n",
    "    min_img = cv2.normalize(min_img, None, min_value, max_value, cv2.NORM_MINMAX)\n",
    "\n",
    "    gre_img = cv2.imread(GreenAreaMaps[index], cv2.IMREAD_GRAYSCALE)\n",
    "    gre_img = cv2.normalize(gre_img, None, min_value, max_value, cv2.NORM_MINMAX)\n",
    "\n",
    "    liv_img = cv2.imread(LivestockMaps[index], cv2.IMREAD_GRAYSCALE)\n",
    "    liv_img = cv2.normalize(liv_img, None, min_value, max_value, cv2.NORM_MINMAX)\n",
    "\n",
    "    agr_img = cv2.imread(AgricultralMaps[index], cv2.IMREAD_GRAYSCALE)\n",
    "    agr_img = cv2.normalize(agr_img, None, min_value, max_value, cv2.NORM_MINMAX)\n",
    "    \n",
    "    elv_img = cv2.imread(ElevationsMap[index], cv2.IMREAD_GRAYSCALE)\n",
    "    elv_img = cv2.normalize(elv_img, None, min_value, max_value, cv2.NORM_MINMAX)\n",
    "    \n",
    "    imgSize = gre_img\n",
    "\n",
    "    Images[\"RegionsMaps\"].extend(ImgDivider(reg_img))\n",
    "    Images[\"MinesMaps\"].extend(ImgDivider(min_img))\n",
    "    Images[\"GreenAreaMaps\"].extend(ImgDivider(gre_img))\n",
    "    Images[\"LivestockMaps\"].extend(ImgDivider(liv_img))\n",
    "    Images[\"AgricultralMaps\"].extend(ImgDivider(agr_img))\n",
    "    Images[\"ElevationMaps\"].extend(ImgDivider(elv_img))"
   ]
  },
  {
   "cell_type": "code",
   "execution_count": 12,
   "id": "a0fa8541",
   "metadata": {},
   "outputs": [],
   "source": [
    "deleteThisIndexes = []\n",
    "\n",
    "for index in range(len(Images[\"AgricultralMaps\"])):\n",
    "    UV_reg = np.unique(Images[\"RegionsMaps\"][index])\n",
    "    UV_min = np.unique(Images[\"MinesMaps\"][index])\n",
    "    UV_gre = np.unique(Images[\"GreenAreaMaps\"][index])\n",
    "    UV_liv = np.unique(Images[\"LivestockMaps\"][index])\n",
    "    UV_agr = np.unique(Images[\"AgricultralMaps\"][index])\n",
    "\n",
    "    if(len(UV_reg) == 1 and len(UV_min) == 1 and len(UV_gre) == 1 and len(UV_liv) == 1 and len(UV_agr) == 1 and UV_reg[0] == 0):\n",
    "        deleteThisIndexes.append(index)"
   ]
  },
  {
   "cell_type": "code",
   "execution_count": 13,
   "id": "1fd555c8",
   "metadata": {},
   "outputs": [],
   "source": [
    "for key in Images.keys():\n",
    "    image_list = Images[key]\n",
    "    Images[key] = np.delete(image_list, deleteThisIndexes, axis=0)"
   ]
  },
  {
   "cell_type": "code",
   "execution_count": null,
   "id": "97e24016",
   "metadata": {},
   "outputs": [],
   "source": [
    "normalized_maps = np.copy(Images[\"ElevationMaps\"])\n",
    "normalized_maps[normalized_maps > 1000] = 1000\n",
    "normalized_maps = normalized_maps / 1000.0\n",
    "normalized_maps[normalized_maps == 1] = 1\n",
    "\n",
    "Images[\"ElevationMaps\"] = normalized_maps"
   ]
  },
  {
   "cell_type": "code",
   "execution_count": 15,
   "id": "bccc78aa",
   "metadata": {},
   "outputs": [
    {
     "data": {
      "text/plain": [
       "array([0, 1], dtype=uint8)"
      ]
     },
     "execution_count": 15,
     "metadata": {},
     "output_type": "execute_result"
    }
   ],
   "source": [
    "np.unique(Images[\"RegionsMaps\"][5])"
   ]
  },
  {
   "cell_type": "code",
   "execution_count": 16,
   "id": "e9326941",
   "metadata": {},
   "outputs": [],
   "source": [
    "ratios = []\n",
    "for arrayIndex in range(len(Images[\"RegionsMaps\"])):\n",
    "    total_ones = np.sum(Images[\"RegionsMaps\"][arrayIndex])\n",
    "    total_elements = np.prod(Images[\"RegionsMaps\"][arrayIndex].shape)\n",
    "    ratio = total_ones / total_elements\n",
    "    ratio = np.around(ratio, decimals=1)\n",
    "    ratios.append(ratio)\n",
    "\n",
    "Images[\"RegionsMaps\"] = ratios"
   ]
  },
  {
   "cell_type": "code",
   "execution_count": 17,
   "id": "d4404d29",
   "metadata": {},
   "outputs": [],
   "source": [
    "inputsVals = np.stack((Images[\"AgricultralMaps\"], Images[\"MinesMaps\"], Images[\"GreenAreaMaps\"], Images[\"LivestockMaps\"], Images[\"ElevationMaps\"]), axis=-1)"
   ]
  },
  {
   "cell_type": "code",
   "execution_count": 18,
   "id": "607bf4d7",
   "metadata": {},
   "outputs": [],
   "source": [
    "outputMaps = (Images[\"RegionsMaps\"])\n",
    "outputMaps = np.array(outputMaps)"
   ]
  },
  {
   "cell_type": "code",
   "execution_count": 19,
   "id": "d5ded6fe",
   "metadata": {},
   "outputs": [],
   "source": [
    "OutputVals = outputMaps.reshape(-1, 1)"
   ]
  },
  {
   "cell_type": "markdown",
   "id": "85b259de",
   "metadata": {},
   "source": [
    "# AI"
   ]
  },
  {
   "cell_type": "code",
   "execution_count": 20,
   "id": "c48ccd6d",
   "metadata": {},
   "outputs": [],
   "source": [
    "import tensorflow as tf\n",
    "\n",
    "input_shape = (32, 32, 5)"
   ]
  },
  {
   "cell_type": "code",
   "execution_count": null,
   "id": "69752f82",
   "metadata": {},
   "outputs": [],
   "source": [
    "model = tf.keras.Sequential()\n",
    "\n",
    "model.add(tf.keras.layers.Conv2D(32, (3, 3), activation='relu', input_shape=input_shape))\n",
    "model.add(tf.keras.layers.BatchNormalization())\n",
    "\n",
    "model.add(tf.keras.layers.Conv2D(64, (3, 3), activation='elu'))\n",
    "model.add(tf.keras.layers.BatchNormalization())\n",
    "model.add(tf.keras.layers.AveragePooling2D((2, 2)))\n",
    "\n",
    "model.add(tf.keras.layers.Conv2D(128, (3, 3), activation='relu'))\n",
    "model.add(tf.keras.layers.BatchNormalization())\n",
    "model.add(tf.keras.layers.AveragePooling2D((2, 2)))\n",
    "\n",
    "model.add(tf.keras.layers.Flatten())\n",
    "\n",
    "model.add(tf.keras.layers.Dense(128, activation='relu'))\n",
    "model.add(tf.keras.layers.Dense(32, activation='relu'))\n",
    "model.add(tf.keras.layers.Dense(units=1, activation='sigmoid'))"
   ]
  },
  {
   "cell_type": "code",
   "execution_count": 22,
   "id": "bcab0edb",
   "metadata": {},
   "outputs": [
    {
     "data": {
      "text/html": [
       "<pre style=\"white-space:pre;overflow-x:auto;line-height:normal;font-family:Menlo,'DejaVu Sans Mono',consolas,'Courier New',monospace\"><span style=\"font-weight: bold\">Model: \"sequential\"</span>\n",
       "</pre>\n"
      ],
      "text/plain": [
       "\u001b[1mModel: \"sequential\"\u001b[0m\n"
      ]
     },
     "metadata": {},
     "output_type": "display_data"
    },
    {
     "data": {
      "text/html": [
       "<pre style=\"white-space:pre;overflow-x:auto;line-height:normal;font-family:Menlo,'DejaVu Sans Mono',consolas,'Courier New',monospace\">┏━━━━━━━━━━━━━━━━━━━━━━━━━━━━━━━━━━━━━━┳━━━━━━━━━━━━━━━━━━━━━━━━━━━━━┳━━━━━━━━━━━━━━━━━┓\n",
       "┃<span style=\"font-weight: bold\"> Layer (type)                         </span>┃<span style=\"font-weight: bold\"> Output Shape                </span>┃<span style=\"font-weight: bold\">         Param # </span>┃\n",
       "┡━━━━━━━━━━━━━━━━━━━━━━━━━━━━━━━━━━━━━━╇━━━━━━━━━━━━━━━━━━━━━━━━━━━━━╇━━━━━━━━━━━━━━━━━┩\n",
       "│ conv2d (<span style=\"color: #0087ff; text-decoration-color: #0087ff\">Conv2D</span>)                      │ (<span style=\"color: #00d7ff; text-decoration-color: #00d7ff\">None</span>, <span style=\"color: #00af00; text-decoration-color: #00af00\">30</span>, <span style=\"color: #00af00; text-decoration-color: #00af00\">30</span>, <span style=\"color: #00af00; text-decoration-color: #00af00\">32</span>)          │           <span style=\"color: #00af00; text-decoration-color: #00af00\">1,472</span> │\n",
       "├──────────────────────────────────────┼─────────────────────────────┼─────────────────┤\n",
       "│ batch_normalization                  │ (<span style=\"color: #00d7ff; text-decoration-color: #00d7ff\">None</span>, <span style=\"color: #00af00; text-decoration-color: #00af00\">30</span>, <span style=\"color: #00af00; text-decoration-color: #00af00\">30</span>, <span style=\"color: #00af00; text-decoration-color: #00af00\">32</span>)          │             <span style=\"color: #00af00; text-decoration-color: #00af00\">128</span> │\n",
       "│ (<span style=\"color: #0087ff; text-decoration-color: #0087ff\">BatchNormalization</span>)                 │                             │                 │\n",
       "├──────────────────────────────────────┼─────────────────────────────┼─────────────────┤\n",
       "│ conv2d_1 (<span style=\"color: #0087ff; text-decoration-color: #0087ff\">Conv2D</span>)                    │ (<span style=\"color: #00d7ff; text-decoration-color: #00d7ff\">None</span>, <span style=\"color: #00af00; text-decoration-color: #00af00\">28</span>, <span style=\"color: #00af00; text-decoration-color: #00af00\">28</span>, <span style=\"color: #00af00; text-decoration-color: #00af00\">64</span>)          │          <span style=\"color: #00af00; text-decoration-color: #00af00\">18,496</span> │\n",
       "├──────────────────────────────────────┼─────────────────────────────┼─────────────────┤\n",
       "│ batch_normalization_1                │ (<span style=\"color: #00d7ff; text-decoration-color: #00d7ff\">None</span>, <span style=\"color: #00af00; text-decoration-color: #00af00\">28</span>, <span style=\"color: #00af00; text-decoration-color: #00af00\">28</span>, <span style=\"color: #00af00; text-decoration-color: #00af00\">64</span>)          │             <span style=\"color: #00af00; text-decoration-color: #00af00\">256</span> │\n",
       "│ (<span style=\"color: #0087ff; text-decoration-color: #0087ff\">BatchNormalization</span>)                 │                             │                 │\n",
       "├──────────────────────────────────────┼─────────────────────────────┼─────────────────┤\n",
       "│ average_pooling2d (<span style=\"color: #0087ff; text-decoration-color: #0087ff\">AveragePooling2D</span>) │ (<span style=\"color: #00d7ff; text-decoration-color: #00d7ff\">None</span>, <span style=\"color: #00af00; text-decoration-color: #00af00\">14</span>, <span style=\"color: #00af00; text-decoration-color: #00af00\">14</span>, <span style=\"color: #00af00; text-decoration-color: #00af00\">64</span>)          │               <span style=\"color: #00af00; text-decoration-color: #00af00\">0</span> │\n",
       "├──────────────────────────────────────┼─────────────────────────────┼─────────────────┤\n",
       "│ conv2d_2 (<span style=\"color: #0087ff; text-decoration-color: #0087ff\">Conv2D</span>)                    │ (<span style=\"color: #00d7ff; text-decoration-color: #00d7ff\">None</span>, <span style=\"color: #00af00; text-decoration-color: #00af00\">12</span>, <span style=\"color: #00af00; text-decoration-color: #00af00\">12</span>, <span style=\"color: #00af00; text-decoration-color: #00af00\">128</span>)         │          <span style=\"color: #00af00; text-decoration-color: #00af00\">73,856</span> │\n",
       "├──────────────────────────────────────┼─────────────────────────────┼─────────────────┤\n",
       "│ batch_normalization_2                │ (<span style=\"color: #00d7ff; text-decoration-color: #00d7ff\">None</span>, <span style=\"color: #00af00; text-decoration-color: #00af00\">12</span>, <span style=\"color: #00af00; text-decoration-color: #00af00\">12</span>, <span style=\"color: #00af00; text-decoration-color: #00af00\">128</span>)         │             <span style=\"color: #00af00; text-decoration-color: #00af00\">512</span> │\n",
       "│ (<span style=\"color: #0087ff; text-decoration-color: #0087ff\">BatchNormalization</span>)                 │                             │                 │\n",
       "├──────────────────────────────────────┼─────────────────────────────┼─────────────────┤\n",
       "│ average_pooling2d_1                  │ (<span style=\"color: #00d7ff; text-decoration-color: #00d7ff\">None</span>, <span style=\"color: #00af00; text-decoration-color: #00af00\">6</span>, <span style=\"color: #00af00; text-decoration-color: #00af00\">6</span>, <span style=\"color: #00af00; text-decoration-color: #00af00\">128</span>)           │               <span style=\"color: #00af00; text-decoration-color: #00af00\">0</span> │\n",
       "│ (<span style=\"color: #0087ff; text-decoration-color: #0087ff\">AveragePooling2D</span>)                   │                             │                 │\n",
       "├──────────────────────────────────────┼─────────────────────────────┼─────────────────┤\n",
       "│ flatten (<span style=\"color: #0087ff; text-decoration-color: #0087ff\">Flatten</span>)                    │ (<span style=\"color: #00d7ff; text-decoration-color: #00d7ff\">None</span>, <span style=\"color: #00af00; text-decoration-color: #00af00\">4608</span>)                │               <span style=\"color: #00af00; text-decoration-color: #00af00\">0</span> │\n",
       "├──────────────────────────────────────┼─────────────────────────────┼─────────────────┤\n",
       "│ dense (<span style=\"color: #0087ff; text-decoration-color: #0087ff\">Dense</span>)                        │ (<span style=\"color: #00d7ff; text-decoration-color: #00d7ff\">None</span>, <span style=\"color: #00af00; text-decoration-color: #00af00\">128</span>)                 │         <span style=\"color: #00af00; text-decoration-color: #00af00\">589,952</span> │\n",
       "├──────────────────────────────────────┼─────────────────────────────┼─────────────────┤\n",
       "│ dense_1 (<span style=\"color: #0087ff; text-decoration-color: #0087ff\">Dense</span>)                      │ (<span style=\"color: #00d7ff; text-decoration-color: #00d7ff\">None</span>, <span style=\"color: #00af00; text-decoration-color: #00af00\">32</span>)                  │           <span style=\"color: #00af00; text-decoration-color: #00af00\">4,128</span> │\n",
       "├──────────────────────────────────────┼─────────────────────────────┼─────────────────┤\n",
       "│ dense_2 (<span style=\"color: #0087ff; text-decoration-color: #0087ff\">Dense</span>)                      │ (<span style=\"color: #00d7ff; text-decoration-color: #00d7ff\">None</span>, <span style=\"color: #00af00; text-decoration-color: #00af00\">1</span>)                   │              <span style=\"color: #00af00; text-decoration-color: #00af00\">33</span> │\n",
       "└──────────────────────────────────────┴─────────────────────────────┴─────────────────┘\n",
       "</pre>\n"
      ],
      "text/plain": [
       "┏━━━━━━━━━━━━━━━━━━━━━━━━━━━━━━━━━━━━━━┳━━━━━━━━━━━━━━━━━━━━━━━━━━━━━┳━━━━━━━━━━━━━━━━━┓\n",
       "┃\u001b[1m \u001b[0m\u001b[1mLayer (type)                        \u001b[0m\u001b[1m \u001b[0m┃\u001b[1m \u001b[0m\u001b[1mOutput Shape               \u001b[0m\u001b[1m \u001b[0m┃\u001b[1m \u001b[0m\u001b[1m        Param #\u001b[0m\u001b[1m \u001b[0m┃\n",
       "┡━━━━━━━━━━━━━━━━━━━━━━━━━━━━━━━━━━━━━━╇━━━━━━━━━━━━━━━━━━━━━━━━━━━━━╇━━━━━━━━━━━━━━━━━┩\n",
       "│ conv2d (\u001b[38;5;33mConv2D\u001b[0m)                      │ (\u001b[38;5;45mNone\u001b[0m, \u001b[38;5;34m30\u001b[0m, \u001b[38;5;34m30\u001b[0m, \u001b[38;5;34m32\u001b[0m)          │           \u001b[38;5;34m1,472\u001b[0m │\n",
       "├──────────────────────────────────────┼─────────────────────────────┼─────────────────┤\n",
       "│ batch_normalization                  │ (\u001b[38;5;45mNone\u001b[0m, \u001b[38;5;34m30\u001b[0m, \u001b[38;5;34m30\u001b[0m, \u001b[38;5;34m32\u001b[0m)          │             \u001b[38;5;34m128\u001b[0m │\n",
       "│ (\u001b[38;5;33mBatchNormalization\u001b[0m)                 │                             │                 │\n",
       "├──────────────────────────────────────┼─────────────────────────────┼─────────────────┤\n",
       "│ conv2d_1 (\u001b[38;5;33mConv2D\u001b[0m)                    │ (\u001b[38;5;45mNone\u001b[0m, \u001b[38;5;34m28\u001b[0m, \u001b[38;5;34m28\u001b[0m, \u001b[38;5;34m64\u001b[0m)          │          \u001b[38;5;34m18,496\u001b[0m │\n",
       "├──────────────────────────────────────┼─────────────────────────────┼─────────────────┤\n",
       "│ batch_normalization_1                │ (\u001b[38;5;45mNone\u001b[0m, \u001b[38;5;34m28\u001b[0m, \u001b[38;5;34m28\u001b[0m, \u001b[38;5;34m64\u001b[0m)          │             \u001b[38;5;34m256\u001b[0m │\n",
       "│ (\u001b[38;5;33mBatchNormalization\u001b[0m)                 │                             │                 │\n",
       "├──────────────────────────────────────┼─────────────────────────────┼─────────────────┤\n",
       "│ average_pooling2d (\u001b[38;5;33mAveragePooling2D\u001b[0m) │ (\u001b[38;5;45mNone\u001b[0m, \u001b[38;5;34m14\u001b[0m, \u001b[38;5;34m14\u001b[0m, \u001b[38;5;34m64\u001b[0m)          │               \u001b[38;5;34m0\u001b[0m │\n",
       "├──────────────────────────────────────┼─────────────────────────────┼─────────────────┤\n",
       "│ conv2d_2 (\u001b[38;5;33mConv2D\u001b[0m)                    │ (\u001b[38;5;45mNone\u001b[0m, \u001b[38;5;34m12\u001b[0m, \u001b[38;5;34m12\u001b[0m, \u001b[38;5;34m128\u001b[0m)         │          \u001b[38;5;34m73,856\u001b[0m │\n",
       "├──────────────────────────────────────┼─────────────────────────────┼─────────────────┤\n",
       "│ batch_normalization_2                │ (\u001b[38;5;45mNone\u001b[0m, \u001b[38;5;34m12\u001b[0m, \u001b[38;5;34m12\u001b[0m, \u001b[38;5;34m128\u001b[0m)         │             \u001b[38;5;34m512\u001b[0m │\n",
       "│ (\u001b[38;5;33mBatchNormalization\u001b[0m)                 │                             │                 │\n",
       "├──────────────────────────────────────┼─────────────────────────────┼─────────────────┤\n",
       "│ average_pooling2d_1                  │ (\u001b[38;5;45mNone\u001b[0m, \u001b[38;5;34m6\u001b[0m, \u001b[38;5;34m6\u001b[0m, \u001b[38;5;34m128\u001b[0m)           │               \u001b[38;5;34m0\u001b[0m │\n",
       "│ (\u001b[38;5;33mAveragePooling2D\u001b[0m)                   │                             │                 │\n",
       "├──────────────────────────────────────┼─────────────────────────────┼─────────────────┤\n",
       "│ flatten (\u001b[38;5;33mFlatten\u001b[0m)                    │ (\u001b[38;5;45mNone\u001b[0m, \u001b[38;5;34m4608\u001b[0m)                │               \u001b[38;5;34m0\u001b[0m │\n",
       "├──────────────────────────────────────┼─────────────────────────────┼─────────────────┤\n",
       "│ dense (\u001b[38;5;33mDense\u001b[0m)                        │ (\u001b[38;5;45mNone\u001b[0m, \u001b[38;5;34m128\u001b[0m)                 │         \u001b[38;5;34m589,952\u001b[0m │\n",
       "├──────────────────────────────────────┼─────────────────────────────┼─────────────────┤\n",
       "│ dense_1 (\u001b[38;5;33mDense\u001b[0m)                      │ (\u001b[38;5;45mNone\u001b[0m, \u001b[38;5;34m32\u001b[0m)                  │           \u001b[38;5;34m4,128\u001b[0m │\n",
       "├──────────────────────────────────────┼─────────────────────────────┼─────────────────┤\n",
       "│ dense_2 (\u001b[38;5;33mDense\u001b[0m)                      │ (\u001b[38;5;45mNone\u001b[0m, \u001b[38;5;34m1\u001b[0m)                   │              \u001b[38;5;34m33\u001b[0m │\n",
       "└──────────────────────────────────────┴─────────────────────────────┴─────────────────┘\n"
      ]
     },
     "metadata": {},
     "output_type": "display_data"
    },
    {
     "data": {
      "text/html": [
       "<pre style=\"white-space:pre;overflow-x:auto;line-height:normal;font-family:Menlo,'DejaVu Sans Mono',consolas,'Courier New',monospace\"><span style=\"font-weight: bold\"> Total params: </span><span style=\"color: #00af00; text-decoration-color: #00af00\">688,833</span> (2.63 MB)\n",
       "</pre>\n"
      ],
      "text/plain": [
       "\u001b[1m Total params: \u001b[0m\u001b[38;5;34m688,833\u001b[0m (2.63 MB)\n"
      ]
     },
     "metadata": {},
     "output_type": "display_data"
    },
    {
     "data": {
      "text/html": [
       "<pre style=\"white-space:pre;overflow-x:auto;line-height:normal;font-family:Menlo,'DejaVu Sans Mono',consolas,'Courier New',monospace\"><span style=\"font-weight: bold\"> Trainable params: </span><span style=\"color: #00af00; text-decoration-color: #00af00\">688,385</span> (2.63 MB)\n",
       "</pre>\n"
      ],
      "text/plain": [
       "\u001b[1m Trainable params: \u001b[0m\u001b[38;5;34m688,385\u001b[0m (2.63 MB)\n"
      ]
     },
     "metadata": {},
     "output_type": "display_data"
    },
    {
     "data": {
      "text/html": [
       "<pre style=\"white-space:pre;overflow-x:auto;line-height:normal;font-family:Menlo,'DejaVu Sans Mono',consolas,'Courier New',monospace\"><span style=\"font-weight: bold\"> Non-trainable params: </span><span style=\"color: #00af00; text-decoration-color: #00af00\">448</span> (1.75 KB)\n",
       "</pre>\n"
      ],
      "text/plain": [
       "\u001b[1m Non-trainable params: \u001b[0m\u001b[38;5;34m448\u001b[0m (1.75 KB)\n"
      ]
     },
     "metadata": {},
     "output_type": "display_data"
    }
   ],
   "source": [
    "model.summary()"
   ]
  },
  {
   "cell_type": "code",
   "execution_count": 23,
   "id": "07a5de80",
   "metadata": {},
   "outputs": [],
   "source": [
    "model.compile(optimizer='adam', loss='mean_squared_error', metrics=['accuracy'])"
   ]
  },
  {
   "cell_type": "code",
   "execution_count": 24,
   "id": "566ff92e",
   "metadata": {},
   "outputs": [
    {
     "name": "stdout",
     "output_type": "stream",
     "text": [
      "Epoch 1/32\n",
      "\u001b[1m2613/2613\u001b[0m \u001b[32m━━━━━━━━━━━━━━━━━━━━\u001b[0m\u001b[37m\u001b[0m \u001b[1m57s\u001b[0m 21ms/step - accuracy: 0.6949 - loss: 0.1831\n",
      "Epoch 2/32\n",
      "\u001b[1m2613/2613\u001b[0m \u001b[32m━━━━━━━━━━━━━━━━━━━━\u001b[0m\u001b[37m\u001b[0m \u001b[1m57s\u001b[0m 22ms/step - accuracy: 0.7359 - loss: 0.1405\n",
      "Epoch 3/32\n",
      "\u001b[1m2613/2613\u001b[0m \u001b[32m━━━━━━━━━━━━━━━━━━━━\u001b[0m\u001b[37m\u001b[0m \u001b[1m60s\u001b[0m 23ms/step - accuracy: 0.7425 - loss: 0.1349\n",
      "Epoch 4/32\n",
      "\u001b[1m2613/2613\u001b[0m \u001b[32m━━━━━━━━━━━━━━━━━━━━\u001b[0m\u001b[37m\u001b[0m \u001b[1m60s\u001b[0m 23ms/step - accuracy: 0.7466 - loss: 0.1310\n",
      "Epoch 5/32\n",
      "\u001b[1m2613/2613\u001b[0m \u001b[32m━━━━━━━━━━━━━━━━━━━━\u001b[0m\u001b[37m\u001b[0m \u001b[1m60s\u001b[0m 23ms/step - accuracy: 0.7504 - loss: 0.1278\n",
      "Epoch 6/32\n",
      "\u001b[1m2613/2613\u001b[0m \u001b[32m━━━━━━━━━━━━━━━━━━━━\u001b[0m\u001b[37m\u001b[0m \u001b[1m62s\u001b[0m 24ms/step - accuracy: 0.7565 - loss: 0.1242\n",
      "Epoch 7/32\n",
      "\u001b[1m2613/2613\u001b[0m \u001b[32m━━━━━━━━━━━━━━━━━━━━\u001b[0m\u001b[37m\u001b[0m \u001b[1m59s\u001b[0m 23ms/step - accuracy: 0.7585 - loss: 0.1207\n",
      "Epoch 8/32\n",
      "\u001b[1m2613/2613\u001b[0m \u001b[32m━━━━━━━━━━━━━━━━━━━━\u001b[0m\u001b[37m\u001b[0m \u001b[1m58s\u001b[0m 22ms/step - accuracy: 0.7634 - loss: 0.1168\n",
      "Epoch 9/32\n",
      "\u001b[1m2613/2613\u001b[0m \u001b[32m━━━━━━━━━━━━━━━━━━━━\u001b[0m\u001b[37m\u001b[0m \u001b[1m56s\u001b[0m 22ms/step - accuracy: 0.7676 - loss: 0.1155\n",
      "Epoch 10/32\n",
      "\u001b[1m2613/2613\u001b[0m \u001b[32m━━━━━━━━━━━━━━━━━━━━\u001b[0m\u001b[37m\u001b[0m \u001b[1m58s\u001b[0m 22ms/step - accuracy: 0.7794 - loss: 0.1097\n",
      "Epoch 11/32\n",
      "\u001b[1m2613/2613\u001b[0m \u001b[32m━━━━━━━━━━━━━━━━━━━━\u001b[0m\u001b[37m\u001b[0m \u001b[1m57s\u001b[0m 22ms/step - accuracy: 0.7869 - loss: 0.1037\n",
      "Epoch 12/32\n",
      "\u001b[1m2613/2613\u001b[0m \u001b[32m━━━━━━━━━━━━━━━━━━━━\u001b[0m\u001b[37m\u001b[0m \u001b[1m59s\u001b[0m 22ms/step - accuracy: 0.7949 - loss: 0.0985\n",
      "Epoch 13/32\n",
      "\u001b[1m2613/2613\u001b[0m \u001b[32m━━━━━━━━━━━━━━━━━━━━\u001b[0m\u001b[37m\u001b[0m \u001b[1m57s\u001b[0m 22ms/step - accuracy: 0.8045 - loss: 0.0929\n",
      "Epoch 14/32\n",
      "\u001b[1m2613/2613\u001b[0m \u001b[32m━━━━━━━━━━━━━━━━━━━━\u001b[0m\u001b[37m\u001b[0m \u001b[1m58s\u001b[0m 22ms/step - accuracy: 0.8088 - loss: 0.0892\n",
      "Epoch 15/32\n",
      "\u001b[1m2613/2613\u001b[0m \u001b[32m━━━━━━━━━━━━━━━━━━━━\u001b[0m\u001b[37m\u001b[0m \u001b[1m58s\u001b[0m 22ms/step - accuracy: 0.8138 - loss: 0.0854\n",
      "Epoch 16/32\n",
      "\u001b[1m2613/2613\u001b[0m \u001b[32m━━━━━━━━━━━━━━━━━━━━\u001b[0m\u001b[37m\u001b[0m \u001b[1m59s\u001b[0m 22ms/step - accuracy: 0.8192 - loss: 0.0818\n",
      "Epoch 17/32\n",
      "\u001b[1m2613/2613\u001b[0m \u001b[32m━━━━━━━━━━━━━━━━━━━━\u001b[0m\u001b[37m\u001b[0m \u001b[1m60s\u001b[0m 23ms/step - accuracy: 0.8228 - loss: 0.0787\n",
      "Epoch 18/32\n",
      "\u001b[1m2613/2613\u001b[0m \u001b[32m━━━━━━━━━━━━━━━━━━━━\u001b[0m\u001b[37m\u001b[0m \u001b[1m56s\u001b[0m 21ms/step - accuracy: 0.8224 - loss: 0.0778\n",
      "Epoch 19/32\n",
      "\u001b[1m2613/2613\u001b[0m \u001b[32m━━━━━━━━━━━━━━━━━━━━\u001b[0m\u001b[37m\u001b[0m \u001b[1m54s\u001b[0m 21ms/step - accuracy: 0.8264 - loss: 0.0746\n",
      "Epoch 20/32\n",
      "\u001b[1m2613/2613\u001b[0m \u001b[32m━━━━━━━━━━━━━━━━━━━━\u001b[0m\u001b[37m\u001b[0m \u001b[1m54s\u001b[0m 21ms/step - accuracy: 0.8325 - loss: 0.0713\n",
      "Epoch 21/32\n",
      "\u001b[1m2613/2613\u001b[0m \u001b[32m━━━━━━━━━━━━━━━━━━━━\u001b[0m\u001b[37m\u001b[0m \u001b[1m55s\u001b[0m 21ms/step - accuracy: 0.8328 - loss: 0.0717\n",
      "Epoch 22/32\n",
      "\u001b[1m2613/2613\u001b[0m \u001b[32m━━━━━━━━━━━━━━━━━━━━\u001b[0m\u001b[37m\u001b[0m \u001b[1m56s\u001b[0m 21ms/step - accuracy: 0.8354 - loss: 0.0691\n",
      "Epoch 23/32\n",
      "\u001b[1m2613/2613\u001b[0m \u001b[32m━━━━━━━━━━━━━━━━━━━━\u001b[0m\u001b[37m\u001b[0m \u001b[1m55s\u001b[0m 21ms/step - accuracy: 0.8383 - loss: 0.0670\n",
      "Epoch 24/32\n",
      "\u001b[1m2613/2613\u001b[0m \u001b[32m━━━━━━━━━━━━━━━━━━━━\u001b[0m\u001b[37m\u001b[0m \u001b[1m55s\u001b[0m 21ms/step - accuracy: 0.8381 - loss: 0.0675\n",
      "Epoch 25/32\n",
      "\u001b[1m2613/2613\u001b[0m \u001b[32m━━━━━━━━━━━━━━━━━━━━\u001b[0m\u001b[37m\u001b[0m \u001b[1m54s\u001b[0m 21ms/step - accuracy: 0.8392 - loss: 0.0659\n",
      "Epoch 26/32\n",
      "\u001b[1m2613/2613\u001b[0m \u001b[32m━━━━━━━━━━━━━━━━━━━━\u001b[0m\u001b[37m\u001b[0m \u001b[1m56s\u001b[0m 21ms/step - accuracy: 0.8438 - loss: 0.0638\n",
      "Epoch 27/32\n",
      "\u001b[1m2613/2613\u001b[0m \u001b[32m━━━━━━━━━━━━━━━━━━━━\u001b[0m\u001b[37m\u001b[0m \u001b[1m56s\u001b[0m 22ms/step - accuracy: 0.8409 - loss: 0.0638\n",
      "Epoch 28/32\n",
      "\u001b[1m2613/2613\u001b[0m \u001b[32m━━━━━━━━━━━━━━━━━━━━\u001b[0m\u001b[37m\u001b[0m \u001b[1m58s\u001b[0m 22ms/step - accuracy: 0.8443 - loss: 0.0623\n",
      "Epoch 29/32\n",
      "\u001b[1m2613/2613\u001b[0m \u001b[32m━━━━━━━━━━━━━━━━━━━━\u001b[0m\u001b[37m\u001b[0m \u001b[1m55s\u001b[0m 21ms/step - accuracy: 0.8452 - loss: 0.0616\n",
      "Epoch 30/32\n",
      "\u001b[1m2613/2613\u001b[0m \u001b[32m━━━━━━━━━━━━━━━━━━━━\u001b[0m\u001b[37m\u001b[0m \u001b[1m55s\u001b[0m 21ms/step - accuracy: 0.8455 - loss: 0.0618\n",
      "Epoch 31/32\n",
      "\u001b[1m2613/2613\u001b[0m \u001b[32m━━━━━━━━━━━━━━━━━━━━\u001b[0m\u001b[37m\u001b[0m \u001b[1m55s\u001b[0m 21ms/step - accuracy: 0.8499 - loss: 0.0607\n",
      "Epoch 32/32\n",
      "\u001b[1m2613/2613\u001b[0m \u001b[32m━━━━━━━━━━━━━━━━━━━━\u001b[0m\u001b[37m\u001b[0m \u001b[1m56s\u001b[0m 21ms/step - accuracy: 0.8477 - loss: 0.0608\n"
     ]
    },
    {
     "data": {
      "text/plain": [
       "<keras.src.callbacks.history.History at 0x1598316d310>"
      ]
     },
     "execution_count": 24,
     "metadata": {},
     "output_type": "execute_result"
    }
   ],
   "source": [
    "model.fit(inputsVals, outputMaps, epochs=32)"
   ]
  },
  {
   "cell_type": "code",
   "execution_count": 25,
   "id": "78b976d4",
   "metadata": {},
   "outputs": [
    {
     "name": "stdout",
     "output_type": "stream",
     "text": [
      "\u001b[1m1/1\u001b[0m \u001b[32m━━━━━━━━━━━━━━━━━━━━\u001b[0m\u001b[37m\u001b[0m \u001b[1m0s\u001b[0m 102ms/step\n"
     ]
    }
   ],
   "source": [
    "predictions = model.predict(inputsVals[:10])"
   ]
  },
  {
   "cell_type": "code",
   "execution_count": 26,
   "id": "86cd41b8",
   "metadata": {},
   "outputs": [
    {
     "data": {
      "text/plain": [
       "array([[0. ],\n",
       "       [0. ],\n",
       "       [0.4],\n",
       "       [0.9],\n",
       "       [0.9],\n",
       "       [0. ],\n",
       "       [0. ],\n",
       "       [0. ],\n",
       "       [0. ],\n",
       "       [0. ]], dtype=float32)"
      ]
     },
     "execution_count": 26,
     "metadata": {},
     "output_type": "execute_result"
    }
   ],
   "source": [
    "np.around(predictions, decimals=1)"
   ]
  },
  {
   "cell_type": "code",
   "execution_count": 29,
   "id": "27238b37",
   "metadata": {},
   "outputs": [
    {
     "data": {
      "text/plain": [
       "array([[0. ],\n",
       "       [0. ],\n",
       "       [0. ],\n",
       "       [0.5],\n",
       "       [1. ],\n",
       "       [0.6],\n",
       "       [0.1],\n",
       "       [0. ],\n",
       "       [0. ],\n",
       "       [0. ]])"
      ]
     },
     "execution_count": 29,
     "metadata": {},
     "output_type": "execute_result"
    }
   ],
   "source": [
    "OutputVals[:10]"
   ]
  },
  {
   "cell_type": "code",
   "execution_count": 30,
   "id": "642e178a",
   "metadata": {},
   "outputs": [],
   "source": [
    "model.save(\"Models/NewModel.keras\")"
   ]
  },
  {
   "cell_type": "code",
   "execution_count": null,
   "id": "876d7745",
   "metadata": {},
   "outputs": [],
   "source": []
  }
 ],
 "metadata": {
  "kernelspec": {
   "display_name": "Python 3 (ipykernel)",
   "language": "python",
   "name": "python3"
  },
  "language_info": {
   "codemirror_mode": {
    "name": "ipython",
    "version": 3
   },
   "file_extension": ".py",
   "mimetype": "text/x-python",
   "name": "python",
   "nbconvert_exporter": "python",
   "pygments_lexer": "ipython3",
   "version": "3.11.4"
  }
 },
 "nbformat": 4,
 "nbformat_minor": 5
}
