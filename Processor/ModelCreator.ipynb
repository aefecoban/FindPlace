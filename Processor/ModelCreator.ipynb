{
 "cells": [
  {
   "cell_type": "code",
   "execution_count": 1,
   "id": "18c627c3",
   "metadata": {},
   "outputs": [],
   "source": [
    "from PIL import Image\n",
    "import os\n",
    "import math\n",
    "import glob\n",
    "import pandas as pd\n",
    "import cv2\n",
    "import numpy as np"
   ]
  },
  {
   "cell_type": "code",
   "execution_count": 2,
   "id": "ffe5ff7a",
   "metadata": {},
   "outputs": [],
   "source": [
    "imageFolder = \"images\"\n",
    "debugImagesFolder = \"debugImages\"\n",
    "\n",
    "png_dosyalari = [dosya for dosya in os.listdir(imageFolder) if dosya.endswith('.png')]\n",
    "\n",
    "konumlar = {}\n",
    "\n",
    "for png_dosyasi in png_dosyalari:\n",
    "    dosya_adi = os.path.splitext(png_dosyasi)[0]\n",
    "    \n",
    "    konum_tur = dosya_adi.rsplit('_', 1)\n",
    "    \n",
    "    if konum_tur[1] not in konumlar:\n",
    "        konumlar[konum_tur[1]] = []\n",
    "\n",
    "    # Dosya adını ve konum-tür bilgisini sözlüğe ekle\n",
    "    konumlar[konum_tur[1]].append({'dosya_adi': dosya_adi, 'dosya_yolu': os.path.join(imageFolder, png_dosyasi)})"
   ]
  },
  {
   "cell_type": "code",
   "execution_count": 3,
   "id": "ed72b7f6",
   "metadata": {},
   "outputs": [],
   "source": [
    "AgricultralMap = []\n",
    "GreenAreaMap = []\n",
    "IndustryMap = []\n",
    "LivestockMap = []\n",
    "MinesMap = []\n",
    "RegionsMap = []\n",
    "Cities = []\n",
    "\n",
    "for x in konumlar.keys():\n",
    "    Cities.append(x)\n",
    "    y = konumlar[x]\n",
    "    for d in y:\n",
    "        dosya_adi = d.get(\"dosya_adi\", \"\")\n",
    "\n",
    "        if isinstance(dosya_adi, list):\n",
    "            dosya_adi = dosya_adi[0] if dosya_adi else \"\"\n",
    "\n",
    "        if \"AgricultralMap\" in dosya_adi:\n",
    "            AgricultralMap.append(d[\"dosya_yolu\"])\n",
    "        elif \"GreenAreaMap\" in dosya_adi:\n",
    "            GreenAreaMap.append(d[\"dosya_yolu\"])\n",
    "        elif \"LivestockMap\" in dosya_adi:\n",
    "            LivestockMap.append(d[\"dosya_yolu\"])\n",
    "        elif \"MinesMap\" in dosya_adi:\n",
    "            MinesMap.append(d[\"dosya_yolu\"])\n",
    "        elif \"RegionsMap\" in dosya_adi:\n",
    "            RegionsMap.append(d[\"dosya_yolu\"])"
   ]
  },
  {
   "cell_type": "code",
   "execution_count": 4,
   "id": "8cc6c51d",
   "metadata": {},
   "outputs": [],
   "source": [
    "del konumlar"
   ]
  },
  {
   "cell_type": "code",
   "execution_count": 5,
   "id": "cb8c2954",
   "metadata": {},
   "outputs": [],
   "source": [
    "def GetImage(str_img):\n",
    "    if(type(str_img) != type(\"\")):\n",
    "        return str_img\n",
    "    img = cv2.imread(str_img, cv2.IMREAD_GRAYSCALE)\n",
    "    return cv2.resize(img, (256, 256))\n",
    "\n",
    "def ImgTiler(name):\n",
    "    file_name, file_extension = os.path.splitext(os.path.basename(name))\n",
    "\n",
    "    img = cv2.imread(name) \n",
    "    img_shape = img.shape\n",
    "    tile_size = (384, 384)\n",
    "    offset = (384, 384)\n",
    "    \n",
    "    dizin = debugImagesFolder + \"/\"+file_name+\"/\"\n",
    "    \n",
    "    folder_path = os.path.join(dizin, \"\")\n",
    "    os.makedirs(folder_path, exist_ok=True)\n",
    "\n",
    "    for i in range(int(math.ceil(img_shape[0]/(offset[1] * 1.0)))):\n",
    "        for j in range(int(math.ceil(img_shape[1]/(offset[0] * 1.0)))):\n",
    "            cropped_img = img[offset[1]*i:min(offset[1]*i+tile_size[1], img_shape[0]), offset[0]*j:min(offset[0]*j+tile_size[0], img_shape[1])]\n",
    "            cv2.imwrite(dizin + file_name + \"_\" + str(i) + \"_\" + str(j) + \".png\", cropped_img)"
   ]
  },
  {
   "cell_type": "code",
   "execution_count": 6,
   "id": "26d2023f",
   "metadata": {},
   "outputs": [],
   "source": [
    "for i in range(len(AgricultralMap)):\n",
    "    ImgTiler(AgricultralMap[i])\n",
    "for i in range(len(GreenAreaMap)):\n",
    "    ImgTiler(GreenAreaMap[i])\n",
    "for i in range(len(LivestockMap)):\n",
    "    ImgTiler(LivestockMap[i])\n",
    "for i in range(len(MinesMap)):\n",
    "    ImgTiler(MinesMap[i])\n",
    "for i in range(len(RegionsMap)):\n",
    "    ImgTiler(RegionsMap[i])"
   ]
  },
  {
   "cell_type": "code",
   "execution_count": 7,
   "id": "7ef50128",
   "metadata": {},
   "outputs": [],
   "source": [
    "AgricultralMap.clear()\n",
    "GreenAreaMap.clear()\n",
    "IndustryMap.clear()\n",
    "LivestockMap.clear()\n",
    "MinesMap.clear()\n",
    "RegionsMap.clear()\n",
    "\n",
    "KlasorAdlari = [\"AgricultralMap\", \"GreenAreaMap\", \"LivestockMap\", \"MinesMap\", \"RegionsMap\"]\n",
    "\n",
    "for ka in KlasorAdlari:\n",
    "    klasorler = [klasor for klasor in os.listdir(debugImagesFolder) if klasor.startswith(ka)]\n",
    "    for klasor in klasorler:\n",
    "        png_dosyalari = [(debugImagesFolder + \"/\" + klasor + \"/\") + dosya for dosya in os.listdir(debugImagesFolder + \"/\" + klasor) if dosya.endswith('.png')]\n",
    "        if ka == \"AgricultralMap\":\n",
    "            AgricultralMap.extend(png_dosyalari)\n",
    "        elif ka == \"GreenAreaMap\":\n",
    "            GreenAreaMap.extend(png_dosyalari)\n",
    "        elif ka == \"LivestockMap\":\n",
    "            LivestockMap.extend(png_dosyalari)\n",
    "        elif ka == \"MinesMap\":\n",
    "            MinesMap.extend(png_dosyalari)\n",
    "        elif ka == \"RegionsMap\":\n",
    "            RegionsMap.extend(png_dosyalari)\n",
    "            \n",
    "del KlasorAdlari"
   ]
  },
  {
   "cell_type": "code",
   "execution_count": 8,
   "id": "98ae5ff6",
   "metadata": {},
   "outputs": [],
   "source": [
    "for i in range(len(AgricultralMap)):\n",
    "    AgricultralMap[i] = GetImage(AgricultralMap[i]) / 255\n",
    "for i in range(len(GreenAreaMap)):\n",
    "    GreenAreaMap[i] = GetImage(GreenAreaMap[i]) / 255\n",
    "for i in range(len(LivestockMap)):\n",
    "    LivestockMap[i] = GetImage(LivestockMap[i]) / 255\n",
    "for i in range(len(MinesMap)):\n",
    "    MinesMap[i] = GetImage(MinesMap[i]) / 255\n",
    "for i in range(len(RegionsMap)):\n",
    "    RegionsMap[i] = GetImage(RegionsMap[i]) / 255"
   ]
  },
  {
   "cell_type": "code",
   "execution_count": 9,
   "id": "ab01dd72",
   "metadata": {},
   "outputs": [],
   "source": [
    "data = {\n",
    "    'AgricultralMap': AgricultralMap,\n",
    "    'GreenAreaMap': GreenAreaMap,\n",
    "    'LivestockMap': LivestockMap,\n",
    "    'MinesMap': MinesMap\n",
    "}\n",
    "\n",
    "del AgricultralMap\n",
    "del GreenAreaMap\n",
    "del LivestockMap\n",
    "del MinesMap\n",
    "\n",
    "dataDF = pd.DataFrame(data)"
   ]
  },
  {
   "cell_type": "code",
   "execution_count": 10,
   "id": "e9e6f510",
   "metadata": {},
   "outputs": [],
   "source": [
    "target = {\n",
    "    'RegionsMap': RegionsMap\n",
    "}\n",
    "targetDF = pd.DataFrame(target)\n",
    "targetValDF = pd.DataFrame(data={'target': range(len(RegionsMap))})\n",
    "targetMatrix = pd.DataFrame(data={\"matrix\": []})\n",
    "\n",
    "del target\n",
    "# targetValDF de yer alan değerler targetMatrix teki indexleri ifade eder."
   ]
  },
  {
   "cell_type": "code",
   "execution_count": 11,
   "id": "c8d76144",
   "metadata": {},
   "outputs": [],
   "source": [
    "np.unique(targetDF.iloc[0][\"RegionsMap\"])\n",
    "\n",
    "zeroArray = np.zeros((256, 256))\n",
    "oneArray = np.ones((256, 256))\n",
    "\n",
    "targetMatrix.loc[0] = { \"matrix\" : zeroArray }\n",
    "targetMatrix.loc[1] = { \"matrix\" : oneArray }"
   ]
  },
  {
   "cell_type": "code",
   "execution_count": 12,
   "id": "a81ba023",
   "metadata": {},
   "outputs": [],
   "source": [
    "for index, row in targetDF.iterrows():\n",
    "    unique_values = np.unique(row[\"RegionsMap\"])\n",
    "    \n",
    "    if (0 in unique_values) and (len(unique_values) == 1):\n",
    "        targetValDF.loc[index] = 0\n",
    "    elif (1 in unique_values) and (len(unique_values) == 1):\n",
    "        targetValDF.loc[index] = 1\n",
    "    elif (len(unique_values) > 1):\n",
    "        ones_count = np.count_nonzero(row[\"RegionsMap\"] == 1)\n",
    "        zeros_count = np.count_nonzero(row[\"RegionsMap\"] == 0)\n",
    "        \n",
    "        sum_count = ones_count + zeros_count\n",
    "        x = sum_count * 8 / 10\n",
    "        \n",
    "        if(ones_count > x):\n",
    "            targetValDF.loc[index] = 1\n",
    "        elif(zeros_count > x):\n",
    "            targetValDF.loc[index] = 0\n",
    "        else:\n",
    "            targetMatrix.loc[len(targetMatrix)] = {\"matrix\": row[\"RegionsMap\"]}\n",
    "            targetValDF.loc[index] = (len(targetMatrix) - 1)"
   ]
  },
  {
   "cell_type": "code",
   "execution_count": 13,
   "id": "a2e4940c",
   "metadata": {},
   "outputs": [
    {
     "name": "stdout",
     "output_type": "stream",
     "text": [
      "Toplam veri: 3330\n",
      "Silinecek veri: 1857\n"
     ]
    }
   ],
   "source": [
    "indexesToBeDeleted = []\n",
    "\n",
    "# Veri olmayan boş bölgelerin silinmesi işlemi\n",
    "\n",
    "for i in range(len(data[\"AgricultralMap\"])):\n",
    "    if(\n",
    "        (len(np.unique(data[\"AgricultralMap\"][i])) == 1 and (np.unique(data[\"AgricultralMap\"][i]))[0] == 0) and\n",
    "        (len(np.unique(data[\"GreenAreaMap\"][i])) == 1 and (np.unique(data[\"GreenAreaMap\"][i]))[0] == 0) and\n",
    "        (len(np.unique(data[\"LivestockMap\"][i])) == 1 and (np.unique(data[\"LivestockMap\"][i]))[0] == 0) and\n",
    "        (len(np.unique(data[\"MinesMap\"][i])) == 1 and (np.unique(data[\"MinesMap\"][i]))[0] == 0) and\n",
    "        (len(np.unique(targetDF[\"RegionsMap\"][i])) == 1 and (np.unique(targetDF[\"RegionsMap\"][i]))[0] == 0)\n",
    "    ):\n",
    "        indexesToBeDeleted.append(i)\n",
    "\n",
    "print(\"Toplam veri: \" + str(len(data[\"AgricultralMap\"])) + \"\\nSilinecek veri: \" + str(len(indexesToBeDeleted)))"
   ]
  },
  {
   "cell_type": "code",
   "execution_count": 14,
   "id": "8fcac7ff",
   "metadata": {},
   "outputs": [],
   "source": [
    "numberOfDataToRemain = len(data[\"AgricultralMap\"]) - len(indexesToBeDeleted)\n",
    "#Veri bulunmayan kısımların çoğunu çıkartacağız ama burada veri bulunanların toplamının 10 da 1 i kadar veri bulunmayan bırakacağız.\n",
    "#deleteNum = (numberOfDataToRemain * 1) / 50\n",
    "#deleteNum = indexesToBeDeleted\n",
    "import random\n",
    "random.shuffle(indexesToBeDeleted)\n",
    "\n",
    "#deleteNum = int(min(deleteNum, len(indexesToBeDeleted)))\n",
    "\n",
    "#indexesToBeDeleted = indexesToBeDeleted[deleteNum:]\n",
    "\n",
    "dataDF.drop(indexesToBeDeleted, inplace=True)\n",
    "targetDF.drop(indexesToBeDeleted, inplace=True)\n",
    "targetValDF.drop(indexesToBeDeleted, inplace=True)\n",
    "\n",
    "dataDF.reset_index(drop=True, inplace=True)\n",
    "targetDF.reset_index(drop=True, inplace=True)\n",
    "targetValDF.reset_index(drop=True, inplace=True)"
   ]
  },
  {
   "cell_type": "code",
   "execution_count": 15,
   "id": "e82fbd45",
   "metadata": {},
   "outputs": [
    {
     "name": "stdout",
     "output_type": "stream",
     "text": [
      "Toplam veri: 1473\n",
      "Silinecek veri: 1857\n",
      "[2, 3, 4, 5, 6, 0, 0, 0, 0, 0, 0, 0, 0, 7, 8, 9, 10, 11, 12, 1, 13, 14, 0, 0, 0, 0, 0, 15, 16, 17, 0, 0, 0, 0, 0, 18, 0, 0, 0, 1, 0, 19, 0, 0, 0, 0, 0, 0, 0, 0, 1, 0, 0, 0, 0, 0, 0, 0, 0, 0, 20, 0, 1, 21, 22, 23, 24, 1, 0, 0, 25, 26, 0, 0, 0, 0, 0, 27, 1, 1, 0, 28, 29, 0, 0, 0, 0, 30, 31, 1, 32, 33, 0, 0, 0, 0, 0, 0, 0, 0, 34, 0, 0, 0, 0, 0, 0, 0, 0, 0, 0, 35, 0, 1, 0, 0, 0, 0, 0, 0, 0, 1, 36, 0, 0, 0, 0, 0, 1, 0, 37, 38, 39, 40, 0, 0, 0, 0, 0, 0, 0, 0, 41, 0, 0, 0, 0, 0, 0, 0, 0, 0, 0, 0, 0, 0, 0, 0, 0, 0, 0, 0, 0, 0, 0, 0, 42, 43, 1, 0, 0, 0, 0, 0, 44, 45, 46, 47, 48, 49, 0, 0, 0, 0, 0, 1, 50, 0, 0, 0, 0, 0, 0, 0, 0, 0, 0, 0, 0, 0, 0, 0, 0, 0, 0, 51, 1, 0, 0, 0, 0, 0, 0, 0, 52, 53, 0, 0, 54, 0, 0, 0, 55, 56, 0, 57, 0, 0, 0, 0, 0, 0, 0, 0, 0, 0, 0, 0, 0, 0, 0, 0, 0, 0, 0, 1, 0, 0, 0, 0, 58, 1, 59, 0, 0, 60, 61, 0, 0, 0, 0, 0, 0, 0, 0, 0, 0, 0, 0, 0, 0, 0, 62, 63, 0, 0, 0, 0, 0, 64, 0, 0, 0, 0, 65, 66, 0, 0, 0, 0, 0, 0, 0, 0, 0, 0, 0, 0, 0, 0, 0, 0, 0, 0, 0, 0, 0, 0, 67, 68, 69, 70, 71, 0, 0, 72, 0, 0, 0, 0, 0, 0, 0, 0, 0, 0, 0, 0, 0, 0, 0, 0, 0, 0, 0, 0, 0, 0, 0, 0, 0, 0, 0, 73, 0, 0, 74, 75, 0, 0, 0, 0, 0, 0, 0, 0, 0, 0, 0, 0, 0, 0, 0, 0, 0, 0, 0, 0, 0, 0, 0, 0, 0, 0, 0, 0, 0, 0, 76, 77, 78, 0, 0, 0, 0, 0, 0, 0, 0, 0, 0, 0, 0, 0, 0, 0, 0, 0, 0, 0, 0, 0, 0, 79, 80, 81, 1, 82, 83, 84, 0, 0, 85, 0, 0, 0, 86, 0, 87, 0, 0, 88, 89, 90, 0, 0, 91, 0, 0, 0, 0, 0, 0, 0, 0, 0, 0, 0, 0, 0, 0, 92, 93, 94, 0, 0, 0, 0, 0, 0, 0, 95, 0, 0, 0, 0, 0, 0, 0, 0, 0, 0, 0, 96, 97, 98, 99, 100, 0, 1, 0, 0, 0, 0, 0, 0, 101, 0, 0, 102, 103, 104, 0, 0, 1, 0, 0, 0, 0, 0, 105, 106, 0, 0, 0, 0, 0, 107, 0, 0, 108, 0, 0, 0, 0, 0, 0, 0, 109, 0, 110, 0, 0, 0, 0, 0, 0, 111, 112, 0, 113, 114, 115, 116, 117, 0, 0, 0, 118, 0, 119, 120, 121, 0, 0, 0, 0, 122, 123, 124, 1, 125, 126, 127, 128, 129, 0, 0, 0, 0, 0, 0, 0, 0, 0, 130, 0, 0, 0, 0, 131, 132, 0, 0, 0, 0, 0, 0, 0, 0, 133, 0, 1, 1, 134, 0, 0, 135, 136, 137, 138, 0, 139, 140, 0, 0, 0, 0, 0, 0, 0, 0, 0, 0, 141, 142, 1, 0, 0, 0, 0, 1, 143, 0, 0, 144, 0, 145, 146, 1, 1, 1, 147, 0, 0, 0, 0, 148, 149, 150, 0, 0, 0, 151, 0, 0, 0, 0, 0, 0, 0, 0, 152, 0, 0, 0, 0, 0, 0, 153, 0, 154, 155, 0, 156, 157, 1, 1, 1, 1, 0, 0, 0, 0, 158, 1, 0, 159, 0, 0, 0, 0, 0, 160, 0, 0, 0, 0, 0, 0, 0, 0, 0, 0, 0, 0, 0, 1, 0, 0, 0, 0, 0, 0, 0, 0, 0, 1, 161, 0, 1, 162, 0, 0, 0, 0, 0, 0, 0, 0, 0, 0, 0, 0, 0, 0, 0, 0, 0, 0, 0, 0, 0, 0, 0, 163, 0, 164, 0, 0, 0, 0, 0, 0, 0, 0, 0, 0, 0, 0, 0, 0, 0, 165, 166, 167, 0, 0, 0, 0, 0, 0, 0, 0, 0, 0, 0, 0, 168, 169, 170, 0, 171, 172, 173, 0, 0, 0, 0, 0, 0, 0, 0, 0, 174, 0, 0, 175, 176, 0, 177, 178, 0, 0, 1, 179, 180, 1, 181, 0, 0, 0, 0, 1, 182, 0, 0, 0, 0, 0, 0, 0, 183, 184, 185, 0, 186, 187, 0, 0, 0, 0, 0, 0, 0, 188, 0, 0, 0, 0, 0, 0, 189, 0, 0, 190, 0, 0, 0, 0, 0, 191, 192, 193, 194, 195, 196, 0, 0, 197, 0, 0, 0, 0, 0, 198, 199, 200, 1, 0, 0, 0, 0, 0, 0, 0, 0, 0, 0, 0, 0, 0, 0, 0, 0, 0, 0, 0, 0, 0, 0, 0, 0, 0, 0, 0, 0, 0, 0, 0, 0, 0, 0, 0, 201, 202, 0, 0, 0, 0, 0, 0, 0, 0, 0, 0, 0, 203, 204, 205, 0, 0, 0, 206, 207, 0, 0, 0, 0, 0, 0, 208, 209, 0, 0, 0, 0, 0, 0, 210, 211, 0, 0, 0, 0, 0, 212, 0, 213, 214, 215, 0, 0, 0, 0, 0, 0, 216, 0, 0, 0, 0, 0, 0, 0, 0, 0, 0, 0, 0, 0, 0, 0, 0, 0, 217, 0, 0, 0, 0, 0, 0, 0, 218, 0, 0, 0, 0, 0, 0, 0, 0, 0, 0, 0, 219, 1, 220, 221, 0, 0, 0, 0, 0, 0, 0, 0, 0, 0, 0, 0, 222, 0, 0, 0, 0, 0, 0, 0, 0, 0, 0, 0, 0, 0, 223, 224, 0, 0, 0, 225, 226, 0, 0, 0, 0, 0, 0, 0, 227, 0, 0, 0, 228, 229, 230, 0, 231, 232, 0, 0, 233, 234, 0, 0, 0, 0, 0, 235, 236, 237, 0, 238, 1, 1, 239, 0, 0, 0, 0, 0, 240, 241, 242, 243, 1, 1, 244, 0, 0, 0, 0, 0, 245, 1, 246, 1, 1, 1, 1, 0, 0, 0, 0, 247, 1, 1, 1, 1, 1, 1, 0, 0, 0, 0, 248, 1, 1, 1, 1, 1, 249, 0, 250, 251, 0, 252, 1, 1, 1, 1, 1, 253, 0, 0, 254, 1, 0, 255, 1, 1, 1, 1, 256, 257, 258, 0, 259, 260, 1, 1, 0, 0, 261, 0, 262, 263, 1, 264, 265, 1, 1, 1, 266, 267, 1, 1, 1, 1, 1, 1, 1, 0, 268, 269, 270, 1, 1, 1, 271, 272, 0, 273, 1, 274, 0, 0, 0, 0, 0, 0, 0, 0, 0, 0, 0, 0, 0, 0, 0, 0, 0, 0, 0, 0, 0, 0, 0, 0, 0, 0, 275, 0, 0, 0, 0, 0, 0, 0, 0, 0, 0, 0, 0, 276, 277, 278, 279, 0, 0, 0, 0, 0, 0, 0, 0, 0, 0, 0, 280, 1, 1, 281, 282, 0, 0, 0, 0, 0, 0, 0, 0, 0, 0, 0, 283, 284, 285, 0, 0, 0, 0, 0, 0, 286, 0, 0, 287, 1, 0, 0, 0, 288, 1, 1, 1, 289, 290, 0, 291, 0, 0, 292, 1, 1, 0, 0, 0, 293, 0, 294, 0, 295, 0, 296, 0, 297, 298, 0, 299, 1, 1, 300, 301, 0, 0, 0, 302, 1, 303, 304, 0, 0, 305, 306, 307, 0, 308, 0, 0, 0, 309, 310, 311, 0, 0, 0, 312, 313, 0, 314, 315, 316, 317, 318, 319, 0, 0, 0, 1, 320, 321, 0, 322, 323, 324, 0, 325, 0, 0, 0, 0, 0, 0, 0, 0, 0, 0, 1, 0, 0, 0, 0, 0, 0, 0, 326, 327, 328, 329, 0, 0, 0, 0, 0, 0, 1, 330, 0, 0, 331, 332, 0, 0, 0, 0, 333, 1, 334, 0, 0, 0, 0, 0, 0, 335, 1, 1, 1, 336, 337, 338, 0, 339, 340, 1, 1, 1, 341, 1, 0, 0, 0, 342, 343, 1, 1, 0, 0, 344, 0, 0, 0, 345, 0, 1, 346, 0, 347, 0, 0, 348, 349, 350, 351, 352, 0, 0, 0, 0, 353, 0, 0, 354, 355, 0, 356, 357, 1, 358, 359, 0, 0, 0, 0, 0, 360, 361, 1, 1, 362, 0, 0, 363, 364, 1, 1, 365, 1, 1, 366, 367, 0, 368, 1, 1, 1, 369, 0, 370, 0, 0, 0, 0, 371, 1, 1, 372, 1, 373, 0, 0, 0, 0, 0, 0, 374, 1, 0, 0, 375, 376, 377, 0, 0, 0, 378, 1, 379, 0, 0, 1, 0]\n"
     ]
    }
   ],
   "source": [
    "targetValDF.iloc[0]\n",
    "targetMatrix.iloc[0]\n",
    "print(\"Toplam veri: \" + str(len(dataDF)) + \"\\nSilinecek veri: \" + str(len(indexesToBeDeleted)))\n",
    "dataDF.iloc[0]\n",
    "\n",
    "different = []\n",
    "for i in range(len(targetValDF)):\n",
    "    different.append(targetValDF.iloc[i][\"target\"])\n",
    "\n",
    "print(different)"
   ]
  },
  {
   "cell_type": "markdown",
   "id": "0464529d",
   "metadata": {},
   "source": [
    "We make a array like this:\n",
    "```\n",
    "[AgricultralMap, GreenAreaMap, LivestockMap, MinesMap] \n",
    "```"
   ]
  },
  {
   "cell_type": "code",
   "execution_count": 16,
   "id": "8a2584b4",
   "metadata": {},
   "outputs": [],
   "source": [
    "UnifiedMap = []\n",
    "for i in range(len(dataDF[\"AgricultralMap\"])):\n",
    "    Arr = []\n",
    "    Arr.append(dataDF[\"AgricultralMap\"][i].tolist())\n",
    "    Arr.append(dataDF[\"GreenAreaMap\"][i].tolist())\n",
    "    Arr.append(dataDF[\"LivestockMap\"][i].tolist())\n",
    "    Arr.append(dataDF[\"MinesMap\"][i].tolist())\n",
    "    UnifiedMap.append(Arr)\n",
    "\n",
    "len(UnifiedMap)\n",
    "del dataDF"
   ]
  },
  {
   "cell_type": "code",
   "execution_count": 17,
   "id": "8dda8d27",
   "metadata": {},
   "outputs": [
    {
     "data": {
      "text/plain": [
       "(4, 256, 256)"
      ]
     },
     "execution_count": 17,
     "metadata": {},
     "output_type": "execute_result"
    }
   ],
   "source": [
    "np.shape(UnifiedMap[0])"
   ]
  },
  {
   "cell_type": "code",
   "execution_count": 18,
   "id": "e86982a5",
   "metadata": {},
   "outputs": [],
   "source": [
    "for i in range(len(UnifiedMap)):\n",
    "    Arr = []\n",
    "    for y in range(len(UnifiedMap[i][0])):\n",
    "        ArrY = []\n",
    "        for x in range(len(UnifiedMap[i][0][y])):\n",
    "            ArrY.append([UnifiedMap[i][0][y][x], UnifiedMap[i][1][y][x], UnifiedMap[i][2][y][x], UnifiedMap[i][3][y][x]])\n",
    "        Arr.append(ArrY)\n",
    "    UnifiedMap[i] = Arr"
   ]
  },
  {
   "cell_type": "code",
   "execution_count": 19,
   "id": "965511d0",
   "metadata": {},
   "outputs": [
    {
     "data": {
      "text/plain": [
       "(256, 256, 4)"
      ]
     },
     "execution_count": 19,
     "metadata": {},
     "output_type": "execute_result"
    }
   ],
   "source": [
    "np.shape(UnifiedMap[0])"
   ]
  },
  {
   "cell_type": "code",
   "execution_count": 20,
   "id": "5f138fe0",
   "metadata": {},
   "outputs": [
    {
     "data": {
      "text/plain": [
       "(1473, 256, 256, 4)"
      ]
     },
     "execution_count": 20,
     "metadata": {},
     "output_type": "execute_result"
    }
   ],
   "source": [
    "np.shape(UnifiedMap)"
   ]
  },
  {
   "cell_type": "markdown",
   "id": "eff749ed",
   "metadata": {},
   "source": [
    "# AI"
   ]
  },
  {
   "cell_type": "code",
   "execution_count": 21,
   "id": "a87f5bae",
   "metadata": {},
   "outputs": [
    {
     "name": "stdout",
     "output_type": "stream",
     "text": [
      "WARNING:tensorflow:From C:\\Users\\alief\\AppData\\Local\\Programs\\Python\\Python311\\Lib\\site-packages\\keras\\src\\losses.py:2976: The name tf.losses.sparse_softmax_cross_entropy is deprecated. Please use tf.compat.v1.losses.sparse_softmax_cross_entropy instead.\n",
      "\n"
     ]
    }
   ],
   "source": [
    "import tensorflow as tf\n",
    "from tensorflow import keras\n",
    "from tensorflow.keras import datasets, layers, models\n",
    "from tensorflow.keras.layers import BatchNormalization\n",
    "from tensorflow.keras.callbacks import ReduceLROnPlateau\n",
    "\n",
    "from sklearn.model_selection import train_test_split\n",
    "from sklearn.metrics import accuracy_score"
   ]
  },
  {
   "cell_type": "code",
   "execution_count": 22,
   "id": "d5fc2aa9",
   "metadata": {},
   "outputs": [],
   "source": [
    "X = UnifiedMap\n",
    "y = np.array(targetValDF[\"target\"].tolist())\n",
    "\n",
    "nX = np.array(X)\n",
    "ny = np.array(y)"
   ]
  },
  {
   "cell_type": "code",
   "execution_count": 23,
   "id": "4c70668a",
   "metadata": {},
   "outputs": [],
   "source": [
    "# Ram\n",
    "del UnifiedMap\n",
    "del RegionsMap\n",
    "del data\n",
    "del X"
   ]
  },
  {
   "cell_type": "code",
   "execution_count": 24,
   "id": "5d5a5c52",
   "metadata": {},
   "outputs": [],
   "source": [
    "X_train, X_test, y_train, y_test = train_test_split(nX, ny, test_size=0.2, random_state=42)"
   ]
  },
  {
   "cell_type": "code",
   "execution_count": 25,
   "id": "b0f07512",
   "metadata": {},
   "outputs": [
    {
     "data": {
      "text/plain": [
       "(1178, 256, 256, 4)"
      ]
     },
     "execution_count": 25,
     "metadata": {},
     "output_type": "execute_result"
    }
   ],
   "source": [
    "X_train.shape"
   ]
  },
  {
   "cell_type": "code",
   "execution_count": 32,
   "id": "3b513e99",
   "metadata": {},
   "outputs": [
    {
     "name": "stdout",
     "output_type": "stream",
     "text": [
      "Model: \"sequential_1\"\n",
      "_________________________________________________________________\n",
      " Layer (type)                Output Shape              Param #   \n",
      "=================================================================\n",
      " conv2d_4 (Conv2D)           (None, 253, 253, 32)      2080      \n",
      "                                                                 \n",
      " max_pooling2d_4 (MaxPoolin  (None, 126, 126, 32)      0         \n",
      " g2D)                                                            \n",
      "                                                                 \n",
      " conv2d_5 (Conv2D)           (None, 124, 124, 32)      9248      \n",
      "                                                                 \n",
      " max_pooling2d_5 (MaxPoolin  (None, 62, 62, 32)        0         \n",
      " g2D)                                                            \n",
      "                                                                 \n",
      " conv2d_6 (Conv2D)           (None, 60, 60, 64)        18496     \n",
      "                                                                 \n",
      " max_pooling2d_6 (MaxPoolin  (None, 30, 30, 64)        0         \n",
      " g2D)                                                            \n",
      "                                                                 \n",
      " conv2d_7 (Conv2D)           (None, 28, 28, 128)       73856     \n",
      "                                                                 \n",
      " max_pooling2d_7 (MaxPoolin  (None, 14, 14, 128)       0         \n",
      " g2D)                                                            \n",
      "                                                                 \n",
      " flatten_1 (Flatten)         (None, 25088)             0         \n",
      "                                                                 \n",
      " dense_2 (Dense)             (None, 512)               12845568  \n",
      "                                                                 \n",
      " dense_3 (Dense)             (None, 1473)              755649    \n",
      "                                                                 \n",
      "=================================================================\n",
      "Total params: 13704897 (52.28 MB)\n",
      "Trainable params: 13704897 (52.28 MB)\n",
      "Non-trainable params: 0 (0.00 Byte)\n",
      "_________________________________________________________________\n"
     ]
    }
   ],
   "source": [
    "vallen = len(targetValDF)\n",
    "\n",
    "model = models.Sequential()\n",
    "model.add(layers.Conv2D(32, (4, 4), activation='relu', input_shape=(256, 256, 4)))\n",
    "model.add(layers.MaxPooling2D((2, 2)))\n",
    "model.add(layers.Conv2D(32, (3, 3), activation='relu'))\n",
    "model.add(layers.MaxPooling2D((2, 2)))\n",
    "model.add(layers.Conv2D(64, (3, 3), activation='relu'))\n",
    "model.add(layers.MaxPooling2D((2, 2)))\n",
    "model.add(layers.Conv2D(128, (3, 3), activation='relu'))\n",
    "model.add(layers.MaxPooling2D((2, 2)))\n",
    "model.add(layers.Flatten())\n",
    "model.add(layers.Dense(512, activation='relu'))\n",
    "model.add(layers.Dense(vallen, activation='softmax'))\n",
    "model.summary()"
   ]
  },
  {
   "cell_type": "code",
   "execution_count": 33,
   "id": "5f0fd6be",
   "metadata": {},
   "outputs": [
    {
     "name": "stdout",
     "output_type": "stream",
     "text": [
      "Model: \"sequential_1\"\n",
      "_________________________________________________________________\n",
      " Layer (type)                Output Shape              Param #   \n",
      "=================================================================\n",
      " conv2d_4 (Conv2D)           (None, 253, 253, 32)      2080      \n",
      "                                                                 \n",
      " max_pooling2d_4 (MaxPoolin  (None, 126, 126, 32)      0         \n",
      " g2D)                                                            \n",
      "                                                                 \n",
      " conv2d_5 (Conv2D)           (None, 124, 124, 32)      9248      \n",
      "                                                                 \n",
      " max_pooling2d_5 (MaxPoolin  (None, 62, 62, 32)        0         \n",
      " g2D)                                                            \n",
      "                                                                 \n",
      " conv2d_6 (Conv2D)           (None, 60, 60, 64)        18496     \n",
      "                                                                 \n",
      " max_pooling2d_6 (MaxPoolin  (None, 30, 30, 64)        0         \n",
      " g2D)                                                            \n",
      "                                                                 \n",
      " conv2d_7 (Conv2D)           (None, 28, 28, 128)       73856     \n",
      "                                                                 \n",
      " max_pooling2d_7 (MaxPoolin  (None, 14, 14, 128)       0         \n",
      " g2D)                                                            \n",
      "                                                                 \n",
      " flatten_1 (Flatten)         (None, 25088)             0         \n",
      "                                                                 \n",
      " dense_2 (Dense)             (None, 512)               12845568  \n",
      "                                                                 \n",
      " dense_3 (Dense)             (None, 1473)              755649    \n",
      "                                                                 \n",
      "=================================================================\n",
      "Total params: 13704897 (52.28 MB)\n",
      "Trainable params: 13704897 (52.28 MB)\n",
      "Non-trainable params: 0 (0.00 Byte)\n",
      "_________________________________________________________________\n"
     ]
    }
   ],
   "source": [
    "model.compile(optimizer=\"adam\", loss=\"sparse_categorical_crossentropy\", metrics=['accuracy'])\n",
    "model.summary()"
   ]
  },
  {
   "cell_type": "code",
   "execution_count": 34,
   "id": "15a1164a",
   "metadata": {},
   "outputs": [
    {
     "name": "stdout",
     "output_type": "stream",
     "text": [
      "Epoch 1/10\n",
      "37/37 [==============================] - 13s 318ms/step - loss: 3.4944 - accuracy: 0.6732 - val_loss: 3.9055 - val_accuracy: 0.5085\n",
      "Epoch 2/10\n",
      "37/37 [==============================] - 12s 322ms/step - loss: 2.2833 - accuracy: 0.6927 - val_loss: 4.5014 - val_accuracy: 0.5085\n",
      "Epoch 3/10\n",
      "37/37 [==============================] - 11s 304ms/step - loss: 2.1132 - accuracy: 0.7029 - val_loss: 4.6302 - val_accuracy: 0.5593\n",
      "Epoch 4/10\n",
      "37/37 [==============================] - 11s 308ms/step - loss: 2.0752 - accuracy: 0.7063 - val_loss: 5.0076 - val_accuracy: 0.5085\n",
      "Epoch 5/10\n",
      "37/37 [==============================] - 11s 305ms/step - loss: 1.9836 - accuracy: 0.7012 - val_loss: 5.3847 - val_accuracy: 0.5119\n",
      "Epoch 6/10\n",
      "37/37 [==============================] - 13s 346ms/step - loss: 1.7199 - accuracy: 0.7097 - val_loss: 6.8268 - val_accuracy: 0.5525\n",
      "Epoch 7/10\n",
      "37/37 [==============================] - 11s 306ms/step - loss: 1.2258 - accuracy: 0.7623 - val_loss: 9.3279 - val_accuracy: 0.5254\n",
      "Epoch 8/10\n",
      "37/37 [==============================] - 11s 306ms/step - loss: 0.7911 - accuracy: 0.8421 - val_loss: 11.8523 - val_accuracy: 0.4847\n",
      "Epoch 9/10\n",
      "37/37 [==============================] - 11s 301ms/step - loss: 0.5941 - accuracy: 0.8888 - val_loss: 14.4705 - val_accuracy: 0.5254\n",
      "Epoch 10/10\n",
      "37/37 [==============================] - 11s 299ms/step - loss: 0.5209 - accuracy: 0.9032 - val_loss: 14.3558 - val_accuracy: 0.5254\n"
     ]
    }
   ],
   "source": [
    "history = model.fit(nX, ny, epochs=10, batch_size=32, validation_split=0.2, shuffle=True)"
   ]
  },
  {
   "cell_type": "code",
   "execution_count": 35,
   "id": "0d31d935",
   "metadata": {},
   "outputs": [],
   "source": [
    "from keras.models import save_model\n",
    "save_model(model, 'Model/4ArrCNNModel.keras')"
   ]
  },
  {
   "cell_type": "code",
   "execution_count": 36,
   "id": "97216639",
   "metadata": {},
   "outputs": [
    {
     "name": "stdout",
     "output_type": "stream",
     "text": [
      "10/10 - 1s - loss: 3.3528 - accuracy: 0.8339 - 560ms/epoch - 56ms/step\n",
      "0.8338983058929443\n"
     ]
    }
   ],
   "source": [
    "#X_test = X_test.reshape(len(X_test), 256, 256, 4)\n",
    "\n",
    "test_loss, test_acc = model.evaluate(X_test,  y_test, verbose=2)\n",
    "print(test_acc)"
   ]
  },
  {
   "cell_type": "code",
   "execution_count": 37,
   "id": "759d45de",
   "metadata": {},
   "outputs": [
    {
     "data": {
      "text/html": [
       "<div>\n",
       "<style scoped>\n",
       "    .dataframe tbody tr th:only-of-type {\n",
       "        vertical-align: middle;\n",
       "    }\n",
       "\n",
       "    .dataframe tbody tr th {\n",
       "        vertical-align: top;\n",
       "    }\n",
       "\n",
       "    .dataframe thead th {\n",
       "        text-align: right;\n",
       "    }\n",
       "</style>\n",
       "<table border=\"1\" class=\"dataframe\">\n",
       "  <thead>\n",
       "    <tr style=\"text-align: right;\">\n",
       "      <th></th>\n",
       "      <th>matrix</th>\n",
       "    </tr>\n",
       "  </thead>\n",
       "  <tbody>\n",
       "    <tr>\n",
       "      <th>0</th>\n",
       "      <td>[[0, 0, 0, 0, 0, 0, 0, 0, 0, 0, 0, 0, 0, 0, 0,...</td>\n",
       "    </tr>\n",
       "    <tr>\n",
       "      <th>1</th>\n",
       "      <td>[[1, 1, 1, 1, 1, 1, 1, 1, 1, 1, 1, 1, 1, 1, 1,...</td>\n",
       "    </tr>\n",
       "    <tr>\n",
       "      <th>2</th>\n",
       "      <td>[[0, 0, 0, 0, 0, 0, 0, 0, 0, 0, 0, 0, 0, 0, 0,...</td>\n",
       "    </tr>\n",
       "    <tr>\n",
       "      <th>3</th>\n",
       "      <td>[[0, 0, 0, 0, 0, 0, 0, 0, 0, 0, 0, 0, 0, 0, 0,...</td>\n",
       "    </tr>\n",
       "    <tr>\n",
       "      <th>4</th>\n",
       "      <td>[[0, 0, 0, 0, 0, 0, 0, 0, 0, 0, 0, 0, 0, 0, 0,...</td>\n",
       "    </tr>\n",
       "    <tr>\n",
       "      <th>5</th>\n",
       "      <td>[[0, 0, 0, 0, 0, 0, 0, 0, 0, 0, 0, 0, 0, 0, 0,...</td>\n",
       "    </tr>\n",
       "    <tr>\n",
       "      <th>6</th>\n",
       "      <td>[[0, 0, 0, 0, 0, 0, 0, 0, 0, 0, 0, 0, 0, 0, 0,...</td>\n",
       "    </tr>\n",
       "    <tr>\n",
       "      <th>7</th>\n",
       "      <td>[[0, 0, 0, 0, 0, 0, 0, 0, 0, 0, 0, 0, 0, 0, 0,...</td>\n",
       "    </tr>\n",
       "    <tr>\n",
       "      <th>8</th>\n",
       "      <td>[[0, 0, 0, 0, 0, 0, 0, 0, 0, 0, 0, 0, 0, 0, 0,...</td>\n",
       "    </tr>\n",
       "    <tr>\n",
       "      <th>9</th>\n",
       "      <td>[[0, 0, 0, 0, 0, 0, 0, 0, 0, 0, 0, 0, 0, 0, 0,...</td>\n",
       "    </tr>\n",
       "    <tr>\n",
       "      <th>10</th>\n",
       "      <td>[[0, 0, 0, 0, 0, 0, 0, 0, 0, 0, 0, 0, 0, 0, 0,...</td>\n",
       "    </tr>\n",
       "    <tr>\n",
       "      <th>11</th>\n",
       "      <td>[[1, 1, 1, 1, 1, 1, 1, 1, 1, 1, 1, 1, 1, 1, 1,...</td>\n",
       "    </tr>\n",
       "    <tr>\n",
       "      <th>12</th>\n",
       "      <td>[[1, 1, 1, 1, 1, 1, 1, 1, 1, 1, 1, 1, 1, 1, 1,...</td>\n",
       "    </tr>\n",
       "    <tr>\n",
       "      <th>13</th>\n",
       "      <td>[[1, 1, 1, 1, 1, 1, 1, 1, 1, 1, 1, 1, 1, 1, 1,...</td>\n",
       "    </tr>\n",
       "    <tr>\n",
       "      <th>14</th>\n",
       "      <td>[[1, 1, 1, 1, 1, 1, 1, 1, 1, 0, 0, 0, 0, 0, 0,...</td>\n",
       "    </tr>\n",
       "  </tbody>\n",
       "</table>\n",
       "</div>"
      ],
      "text/plain": [
       "                                               matrix\n",
       "0   [[0, 0, 0, 0, 0, 0, 0, 0, 0, 0, 0, 0, 0, 0, 0,...\n",
       "1   [[1, 1, 1, 1, 1, 1, 1, 1, 1, 1, 1, 1, 1, 1, 1,...\n",
       "2   [[0, 0, 0, 0, 0, 0, 0, 0, 0, 0, 0, 0, 0, 0, 0,...\n",
       "3   [[0, 0, 0, 0, 0, 0, 0, 0, 0, 0, 0, 0, 0, 0, 0,...\n",
       "4   [[0, 0, 0, 0, 0, 0, 0, 0, 0, 0, 0, 0, 0, 0, 0,...\n",
       "5   [[0, 0, 0, 0, 0, 0, 0, 0, 0, 0, 0, 0, 0, 0, 0,...\n",
       "6   [[0, 0, 0, 0, 0, 0, 0, 0, 0, 0, 0, 0, 0, 0, 0,...\n",
       "7   [[0, 0, 0, 0, 0, 0, 0, 0, 0, 0, 0, 0, 0, 0, 0,...\n",
       "8   [[0, 0, 0, 0, 0, 0, 0, 0, 0, 0, 0, 0, 0, 0, 0,...\n",
       "9   [[0, 0, 0, 0, 0, 0, 0, 0, 0, 0, 0, 0, 0, 0, 0,...\n",
       "10  [[0, 0, 0, 0, 0, 0, 0, 0, 0, 0, 0, 0, 0, 0, 0,...\n",
       "11  [[1, 1, 1, 1, 1, 1, 1, 1, 1, 1, 1, 1, 1, 1, 1,...\n",
       "12  [[1, 1, 1, 1, 1, 1, 1, 1, 1, 1, 1, 1, 1, 1, 1,...\n",
       "13  [[1, 1, 1, 1, 1, 1, 1, 1, 1, 1, 1, 1, 1, 1, 1,...\n",
       "14  [[1, 1, 1, 1, 1, 1, 1, 1, 1, 0, 0, 0, 0, 0, 0,..."
      ]
     },
     "execution_count": 37,
     "metadata": {},
     "output_type": "execute_result"
    }
   ],
   "source": [
    "for i in range(len(targetMatrix[\"matrix\"])):\n",
    "    targetMatrix[\"matrix\"][i] =  [[1 if val != 0 else 0 for val in row] for row in targetMatrix[\"matrix\"][i]]\n",
    "\n",
    "np.save(\"Model/targetMatrix.npy\", targetMatrix)\n",
    "targetMatrix.to_json(\"Model/targetMatrix.json\", orient='records')\n",
    "\n",
    "targetMatrix.head(15)"
   ]
  },
  {
   "cell_type": "code",
   "execution_count": null,
   "id": "ef43f4c1",
   "metadata": {},
   "outputs": [],
   "source": []
  },
  {
   "cell_type": "code",
   "execution_count": null,
   "id": "3a458d74",
   "metadata": {},
   "outputs": [],
   "source": []
  },
  {
   "cell_type": "code",
   "execution_count": null,
   "id": "971f2f1b",
   "metadata": {},
   "outputs": [],
   "source": []
  }
 ],
 "metadata": {
  "kernelspec": {
   "display_name": "Python 3 (ipykernel)",
   "language": "python",
   "name": "python3"
  },
  "language_info": {
   "codemirror_mode": {
    "name": "ipython",
    "version": 3
   },
   "file_extension": ".py",
   "mimetype": "text/x-python",
   "name": "python",
   "nbconvert_exporter": "python",
   "pygments_lexer": "ipython3",
   "version": "3.11.4"
  }
 },
 "nbformat": 4,
 "nbformat_minor": 5
}
